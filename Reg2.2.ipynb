{
 "cells": [
  {
   "cell_type": "code",
   "execution_count": 41,
   "metadata": {},
   "outputs": [],
   "source": [
    "import numpy as np\n",
    "import pandas as pd\n",
    "import seaborn as sb\n",
    "import matplotlib.pyplot as plt\n",
    "from sklearn.tree import DecisionTreeClassifier\n",
    "from sklearn.model_selection import train_test_split\n",
    "from sklearn.metrics import confusion_matrix\n",
    "from sklearn.tree import plot_tree\n",
    "from sklearn.linear_model import LinearRegression\n",
    "from sklearn.model_selection import train_test_split #helps split data evenly and randomly\n",
    "from sklearn.metrics import mean_squared_error, mean_absolute_error\n",
    "from sklearn import preprocessing \n",
    "sb.set()\n",
    "\n",
    "pd.options.display.max_rows = 999\n",
    "\n"
   ]
  },
  {
   "cell_type": "markdown",
   "metadata": {},
   "source": [
    "## Prediction using a Classification Tree"
   ]
  },
  {
   "cell_type": "code",
   "execution_count": 164,
   "metadata": {
    "scrolled": true
   },
   "outputs": [
    {
     "data": {
      "text/html": [
       "<div>\n",
       "<style scoped>\n",
       "    .dataframe tbody tr th:only-of-type {\n",
       "        vertical-align: middle;\n",
       "    }\n",
       "\n",
       "    .dataframe tbody tr th {\n",
       "        vertical-align: top;\n",
       "    }\n",
       "\n",
       "    .dataframe thead th {\n",
       "        text-align: right;\n",
       "    }\n",
       "</style>\n",
       "<table border=\"1\" class=\"dataframe\">\n",
       "  <thead>\n",
       "    <tr style=\"text-align: right;\">\n",
       "      <th></th>\n",
       "      <th>COUNTRY</th>\n",
       "      <th>STATUS</th>\n",
       "      <th>YEAR</th>\n",
       "      <th>LIFE_EXPECTANCY</th>\n",
       "      <th>ADULT_MORTALITY</th>\n",
       "      <th>INFANT_DEATHS</th>\n",
       "      <th>ALCOHOL</th>\n",
       "      <th>PERCENTAGE_EXPENDITURE</th>\n",
       "      <th>HEPATITIS_B</th>\n",
       "      <th>MEASLES</th>\n",
       "      <th>...</th>\n",
       "      <th>UNDER_FIVE_DEATHS</th>\n",
       "      <th>POLIO</th>\n",
       "      <th>TOTAL_EXPENDITURE</th>\n",
       "      <th>DIPHTHERIA</th>\n",
       "      <th>HIV/AIDS</th>\n",
       "      <th>GDP</th>\n",
       "      <th>POPULATION</th>\n",
       "      <th>THINNESS_5_to_19_YEARS</th>\n",
       "      <th>INCOME_COMPOSITION_OF_RESOURCES</th>\n",
       "      <th>SCHOOLING</th>\n",
       "    </tr>\n",
       "  </thead>\n",
       "  <tbody>\n",
       "    <tr>\n",
       "      <th>0</th>\n",
       "      <td>Afghanistan</td>\n",
       "      <td>1</td>\n",
       "      <td>2015.0</td>\n",
       "      <td>0.294686</td>\n",
       "      <td>0.802268</td>\n",
       "      <td>0.606280</td>\n",
       "      <td>-1.540089</td>\n",
       "      <td>-0.653537</td>\n",
       "      <td>0.317298</td>\n",
       "      <td>0.806913</td>\n",
       "      <td>...</td>\n",
       "      <td>0.616162</td>\n",
       "      <td>0.006410</td>\n",
       "      <td>0.562634</td>\n",
       "      <td>0.171717</td>\n",
       "      <td>0.000000</td>\n",
       "      <td>-0.765913</td>\n",
       "      <td>0.695802</td>\n",
       "      <td>1.863475</td>\n",
       "      <td>0.215278</td>\n",
       "      <td>10.1</td>\n",
       "    </tr>\n",
       "    <tr>\n",
       "      <th>1</th>\n",
       "      <td>Afghanistan</td>\n",
       "      <td>1</td>\n",
       "      <td>2014.0</td>\n",
       "      <td>0.187396</td>\n",
       "      <td>0.813152</td>\n",
       "      <td>0.611111</td>\n",
       "      <td>-1.540089</td>\n",
       "      <td>-0.641558</td>\n",
       "      <td>0.293245</td>\n",
       "      <td>0.766886</td>\n",
       "      <td>...</td>\n",
       "      <td>0.621212</td>\n",
       "      <td>0.127778</td>\n",
       "      <td>0.567017</td>\n",
       "      <td>0.156566</td>\n",
       "      <td>0.000000</td>\n",
       "      <td>-0.745047</td>\n",
       "      <td>-0.642920</td>\n",
       "      <td>1.881842</td>\n",
       "      <td>0.211111</td>\n",
       "      <td>10.0</td>\n",
       "    </tr>\n",
       "    <tr>\n",
       "      <th>2</th>\n",
       "      <td>Afghanistan</td>\n",
       "      <td>1</td>\n",
       "      <td>2013.0</td>\n",
       "      <td>0.187396</td>\n",
       "      <td>0.809070</td>\n",
       "      <td>0.615942</td>\n",
       "      <td>-1.540089</td>\n",
       "      <td>-0.643161</td>\n",
       "      <td>0.309280</td>\n",
       "      <td>0.749863</td>\n",
       "      <td>...</td>\n",
       "      <td>0.626263</td>\n",
       "      <td>0.150000</td>\n",
       "      <td>0.556038</td>\n",
       "      <td>0.166667</td>\n",
       "      <td>0.000000</td>\n",
       "      <td>-0.731598</td>\n",
       "      <td>0.674292</td>\n",
       "      <td>1.896363</td>\n",
       "      <td>0.202778</td>\n",
       "      <td>9.9</td>\n",
       "    </tr>\n",
       "    <tr>\n",
       "      <th>3</th>\n",
       "      <td>Afghanistan</td>\n",
       "      <td>1</td>\n",
       "      <td>2012.0</td>\n",
       "      <td>0.180763</td>\n",
       "      <td>0.814512</td>\n",
       "      <td>0.623188</td>\n",
       "      <td>-1.540089</td>\n",
       "      <td>-0.617785</td>\n",
       "      <td>0.333333</td>\n",
       "      <td>0.883365</td>\n",
       "      <td>...</td>\n",
       "      <td>0.632997</td>\n",
       "      <td>0.177778</td>\n",
       "      <td>0.639925</td>\n",
       "      <td>0.181818</td>\n",
       "      <td>0.000000</td>\n",
       "      <td>-0.705787</td>\n",
       "      <td>-0.011252</td>\n",
       "      <td>1.914304</td>\n",
       "      <td>0.193056</td>\n",
       "      <td>9.8</td>\n",
       "    </tr>\n",
       "    <tr>\n",
       "      <th>4</th>\n",
       "      <td>Afghanistan</td>\n",
       "      <td>1</td>\n",
       "      <td>2011.0</td>\n",
       "      <td>0.175788</td>\n",
       "      <td>0.818594</td>\n",
       "      <td>0.628019</td>\n",
       "      <td>-1.540089</td>\n",
       "      <td>-1.506529</td>\n",
       "      <td>0.340278</td>\n",
       "      <td>0.888946</td>\n",
       "      <td>...</td>\n",
       "      <td>0.639731</td>\n",
       "      <td>0.183333</td>\n",
       "      <td>0.497836</td>\n",
       "      <td>0.186869</td>\n",
       "      <td>0.000000</td>\n",
       "      <td>-1.725140</td>\n",
       "      <td>-0.073218</td>\n",
       "      <td>1.932018</td>\n",
       "      <td>0.180556</td>\n",
       "      <td>9.5</td>\n",
       "    </tr>\n",
       "    <tr>\n",
       "      <th>...</th>\n",
       "      <td>...</td>\n",
       "      <td>...</td>\n",
       "      <td>...</td>\n",
       "      <td>...</td>\n",
       "      <td>...</td>\n",
       "      <td>...</td>\n",
       "      <td>...</td>\n",
       "      <td>...</td>\n",
       "      <td>...</td>\n",
       "      <td>...</td>\n",
       "      <td>...</td>\n",
       "      <td>...</td>\n",
       "      <td>...</td>\n",
       "      <td>...</td>\n",
       "      <td>...</td>\n",
       "      <td>...</td>\n",
       "      <td>...</td>\n",
       "      <td>...</td>\n",
       "      <td>...</td>\n",
       "      <td>...</td>\n",
       "      <td>...</td>\n",
       "    </tr>\n",
       "    <tr>\n",
       "      <th>2933</th>\n",
       "      <td>Zimbabwe</td>\n",
       "      <td>1</td>\n",
       "      <td>2004.0</td>\n",
       "      <td>0.046784</td>\n",
       "      <td>1.000000</td>\n",
       "      <td>0.484848</td>\n",
       "      <td>0.149101</td>\n",
       "      <td>1.081648</td>\n",
       "      <td>0.340278</td>\n",
       "      <td>0.547009</td>\n",
       "      <td>...</td>\n",
       "      <td>0.534188</td>\n",
       "      <td>0.177778</td>\n",
       "      <td>0.321024</td>\n",
       "      <td>0.171717</td>\n",
       "      <td>0.959553</td>\n",
       "      <td>-0.876123</td>\n",
       "      <td>0.368261</td>\n",
       "      <td>1.109933</td>\n",
       "      <td>0.115278</td>\n",
       "      <td>9.2</td>\n",
       "    </tr>\n",
       "    <tr>\n",
       "      <th>2934</th>\n",
       "      <td>Zimbabwe</td>\n",
       "      <td>1</td>\n",
       "      <td>2003.0</td>\n",
       "      <td>0.047953</td>\n",
       "      <td>0.997757</td>\n",
       "      <td>0.479798</td>\n",
       "      <td>0.088457</td>\n",
       "      <td>1.061102</td>\n",
       "      <td>0.018072</td>\n",
       "      <td>0.799610</td>\n",
       "      <td>...</td>\n",
       "      <td>0.529915</td>\n",
       "      <td>0.008547</td>\n",
       "      <td>0.161034</td>\n",
       "      <td>0.186869</td>\n",
       "      <td>0.966928</td>\n",
       "      <td>-0.877103</td>\n",
       "      <td>0.364611</td>\n",
       "      <td>1.166410</td>\n",
       "      <td>0.130556</td>\n",
       "      <td>9.5</td>\n",
       "    </tr>\n",
       "    <tr>\n",
       "      <th>2935</th>\n",
       "      <td>Zimbabwe</td>\n",
       "      <td>1</td>\n",
       "      <td>2002.0</td>\n",
       "      <td>0.049708</td>\n",
       "      <td>0.248889</td>\n",
       "      <td>0.474747</td>\n",
       "      <td>0.162786</td>\n",
       "      <td>-2.312958</td>\n",
       "      <td>0.375000</td>\n",
       "      <td>0.715266</td>\n",
       "      <td>...</td>\n",
       "      <td>0.525641</td>\n",
       "      <td>0.211111</td>\n",
       "      <td>0.163773</td>\n",
       "      <td>0.202020</td>\n",
       "      <td>0.974304</td>\n",
       "      <td>-1.768514</td>\n",
       "      <td>-0.857872</td>\n",
       "      <td>-0.981848</td>\n",
       "      <td>0.143056</td>\n",
       "      <td>10.0</td>\n",
       "    </tr>\n",
       "    <tr>\n",
       "      <th>2936</th>\n",
       "      <td>Zimbabwe</td>\n",
       "      <td>1</td>\n",
       "      <td>2001.0</td>\n",
       "      <td>0.052632</td>\n",
       "      <td>0.989627</td>\n",
       "      <td>0.474747</td>\n",
       "      <td>-0.554276</td>\n",
       "      <td>-2.312958</td>\n",
       "      <td>0.395833</td>\n",
       "      <td>0.777046</td>\n",
       "      <td>...</td>\n",
       "      <td>0.521368</td>\n",
       "      <td>0.233333</td>\n",
       "      <td>0.059581</td>\n",
       "      <td>0.222222</td>\n",
       "      <td>0.979776</td>\n",
       "      <td>-0.793556</td>\n",
       "      <td>0.357704</td>\n",
       "      <td>-0.744249</td>\n",
       "      <td>0.143056</td>\n",
       "      <td>9.8</td>\n",
       "    </tr>\n",
       "    <tr>\n",
       "      <th>2937</th>\n",
       "      <td>Zimbabwe</td>\n",
       "      <td>1</td>\n",
       "      <td>2000.0</td>\n",
       "      <td>0.056725</td>\n",
       "      <td>0.983740</td>\n",
       "      <td>0.469697</td>\n",
       "      <td>-0.569376</td>\n",
       "      <td>0.536294</td>\n",
       "      <td>0.416667</td>\n",
       "      <td>0.822316</td>\n",
       "      <td>...</td>\n",
       "      <td>0.521368</td>\n",
       "      <td>0.255556</td>\n",
       "      <td>0.313477</td>\n",
       "      <td>0.255556</td>\n",
       "      <td>0.983107</td>\n",
       "      <td>-0.794540</td>\n",
       "      <td>0.353934</td>\n",
       "      <td>1.311940</td>\n",
       "      <td>0.152778</td>\n",
       "      <td>9.8</td>\n",
       "    </tr>\n",
       "  </tbody>\n",
       "</table>\n",
       "<p>2938 rows × 21 columns</p>\n",
       "</div>"
      ],
      "text/plain": [
       "          COUNTRY  STATUS    YEAR  LIFE_EXPECTANCY  ADULT_MORTALITY  \\\n",
       "0     Afghanistan       1  2015.0         0.294686         0.802268   \n",
       "1     Afghanistan       1  2014.0         0.187396         0.813152   \n",
       "2     Afghanistan       1  2013.0         0.187396         0.809070   \n",
       "3     Afghanistan       1  2012.0         0.180763         0.814512   \n",
       "4     Afghanistan       1  2011.0         0.175788         0.818594   \n",
       "...           ...     ...     ...              ...              ...   \n",
       "2933     Zimbabwe       1  2004.0         0.046784         1.000000   \n",
       "2934     Zimbabwe       1  2003.0         0.047953         0.997757   \n",
       "2935     Zimbabwe       1  2002.0         0.049708         0.248889   \n",
       "2936     Zimbabwe       1  2001.0         0.052632         0.989627   \n",
       "2937     Zimbabwe       1  2000.0         0.056725         0.983740   \n",
       "\n",
       "      INFANT_DEATHS   ALCOHOL  PERCENTAGE_EXPENDITURE  HEPATITIS_B   MEASLES  \\\n",
       "0          0.606280 -1.540089               -0.653537     0.317298  0.806913   \n",
       "1          0.611111 -1.540089               -0.641558     0.293245  0.766886   \n",
       "2          0.615942 -1.540089               -0.643161     0.309280  0.749863   \n",
       "3          0.623188 -1.540089               -0.617785     0.333333  0.883365   \n",
       "4          0.628019 -1.540089               -1.506529     0.340278  0.888946   \n",
       "...             ...       ...                     ...          ...       ...   \n",
       "2933       0.484848  0.149101                1.081648     0.340278  0.547009   \n",
       "2934       0.479798  0.088457                1.061102     0.018072  0.799610   \n",
       "2935       0.474747  0.162786               -2.312958     0.375000  0.715266   \n",
       "2936       0.474747 -0.554276               -2.312958     0.395833  0.777046   \n",
       "2937       0.469697 -0.569376                0.536294     0.416667  0.822316   \n",
       "\n",
       "      ...  UNDER_FIVE_DEATHS     POLIO  TOTAL_EXPENDITURE  DIPHTHERIA  \\\n",
       "0     ...           0.616162  0.006410           0.562634    0.171717   \n",
       "1     ...           0.621212  0.127778           0.567017    0.156566   \n",
       "2     ...           0.626263  0.150000           0.556038    0.166667   \n",
       "3     ...           0.632997  0.177778           0.639925    0.181818   \n",
       "4     ...           0.639731  0.183333           0.497836    0.186869   \n",
       "...   ...                ...       ...                ...         ...   \n",
       "2933  ...           0.534188  0.177778           0.321024    0.171717   \n",
       "2934  ...           0.529915  0.008547           0.161034    0.186869   \n",
       "2935  ...           0.525641  0.211111           0.163773    0.202020   \n",
       "2936  ...           0.521368  0.233333           0.059581    0.222222   \n",
       "2937  ...           0.521368  0.255556           0.313477    0.255556   \n",
       "\n",
       "      HIV/AIDS       GDP  POPULATION  THINNESS_5_to_19_YEARS  \\\n",
       "0     0.000000 -0.765913    0.695802                1.863475   \n",
       "1     0.000000 -0.745047   -0.642920                1.881842   \n",
       "2     0.000000 -0.731598    0.674292                1.896363   \n",
       "3     0.000000 -0.705787   -0.011252                1.914304   \n",
       "4     0.000000 -1.725140   -0.073218                1.932018   \n",
       "...        ...       ...         ...                     ...   \n",
       "2933  0.959553 -0.876123    0.368261                1.109933   \n",
       "2934  0.966928 -0.877103    0.364611                1.166410   \n",
       "2935  0.974304 -1.768514   -0.857872               -0.981848   \n",
       "2936  0.979776 -0.793556    0.357704               -0.744249   \n",
       "2937  0.983107 -0.794540    0.353934                1.311940   \n",
       "\n",
       "      INCOME_COMPOSITION_OF_RESOURCES  SCHOOLING  \n",
       "0                            0.215278       10.1  \n",
       "1                            0.211111       10.0  \n",
       "2                            0.202778        9.9  \n",
       "3                            0.193056        9.8  \n",
       "4                            0.180556        9.5  \n",
       "...                               ...        ...  \n",
       "2933                         0.115278        9.2  \n",
       "2934                         0.130556        9.5  \n",
       "2935                         0.143056       10.0  \n",
       "2936                         0.143056        9.8  \n",
       "2937                         0.152778        9.8  \n",
       "\n",
       "[2938 rows x 21 columns]"
      ]
     },
     "execution_count": 164,
     "metadata": {},
     "output_type": "execute_result"
    }
   ],
   "source": [
    "lifeTransform =  pd.read_csv(\"dataset/life_transform.csv\")\n",
    "lifeTransform.drop(columns=lifeTransform.columns[0],axis=1,inplace=True)\n",
    "lifeTransform"
   ]
  },
  {
   "cell_type": "code",
   "execution_count": 225,
   "metadata": {},
   "outputs": [
    {
     "data": {
      "text/html": [
       "<div>\n",
       "<style scoped>\n",
       "    .dataframe tbody tr th:only-of-type {\n",
       "        vertical-align: middle;\n",
       "    }\n",
       "\n",
       "    .dataframe tbody tr th {\n",
       "        vertical-align: top;\n",
       "    }\n",
       "\n",
       "    .dataframe thead th {\n",
       "        text-align: right;\n",
       "    }\n",
       "</style>\n",
       "<table border=\"1\" class=\"dataframe\">\n",
       "  <thead>\n",
       "    <tr style=\"text-align: right;\">\n",
       "      <th></th>\n",
       "      <th>STATUS</th>\n",
       "      <th>YEAR</th>\n",
       "      <th>LIFE_EXPECTANCY</th>\n",
       "      <th>ADULT_MORTALITY</th>\n",
       "      <th>INFANT_DEATHS</th>\n",
       "      <th>ALCOHOL</th>\n",
       "      <th>PERCENTAGE_EXPENDITURE</th>\n",
       "      <th>HEPATITIS_B</th>\n",
       "      <th>MEASLES</th>\n",
       "      <th>BMI</th>\n",
       "      <th>UNDER_FIVE_DEATHS</th>\n",
       "      <th>POLIO</th>\n",
       "      <th>TOTAL_EXPENDITURE</th>\n",
       "      <th>DIPHTHERIA</th>\n",
       "      <th>HIV/AIDS</th>\n",
       "      <th>GDP</th>\n",
       "      <th>POPULATION</th>\n",
       "      <th>THINNESS_5_to_19_YEARS</th>\n",
       "      <th>INCOME_COMPOSITION_OF_RESOURCES</th>\n",
       "      <th>SCHOOLING</th>\n",
       "    </tr>\n",
       "  </thead>\n",
       "  <tbody>\n",
       "    <tr>\n",
       "      <th>count</th>\n",
       "      <td>2938.000000</td>\n",
       "      <td>2938.000000</td>\n",
       "      <td>2938.000000</td>\n",
       "      <td>2938.000000</td>\n",
       "      <td>2938.000000</td>\n",
       "      <td>2.938000e+03</td>\n",
       "      <td>2.938000e+03</td>\n",
       "      <td>2938.000000</td>\n",
       "      <td>2938.000000</td>\n",
       "      <td>2938.000000</td>\n",
       "      <td>2938.000000</td>\n",
       "      <td>2938.000000</td>\n",
       "      <td>2.938000e+03</td>\n",
       "      <td>2938.000000</td>\n",
       "      <td>2938.000000</td>\n",
       "      <td>2.938000e+03</td>\n",
       "      <td>2.938000e+03</td>\n",
       "      <td>2.938000e+03</td>\n",
       "      <td>2938.000000</td>\n",
       "      <td>2938.000000</td>\n",
       "    </tr>\n",
       "    <tr>\n",
       "      <th>mean</th>\n",
       "      <td>0.825732</td>\n",
       "      <td>2007.518720</td>\n",
       "      <td>0.501309</td>\n",
       "      <td>0.497070</td>\n",
       "      <td>0.498657</td>\n",
       "      <td>-1.876572e-16</td>\n",
       "      <td>-7.742842e-17</td>\n",
       "      <td>0.506461</td>\n",
       "      <td>0.431738</td>\n",
       "      <td>38.790629</td>\n",
       "      <td>0.484631</td>\n",
       "      <td>0.509762</td>\n",
       "      <td>4.402348e-17</td>\n",
       "      <td>0.505652</td>\n",
       "      <td>0.308969</td>\n",
       "      <td>-4.586755e-16</td>\n",
       "      <td>1.053540e-16</td>\n",
       "      <td>-2.648966e-16</td>\n",
       "      <td>0.498775</td>\n",
       "      <td>12.340658</td>\n",
       "    </tr>\n",
       "    <tr>\n",
       "      <th>std</th>\n",
       "      <td>0.379405</td>\n",
       "      <td>4.613841</td>\n",
       "      <td>0.278344</td>\n",
       "      <td>0.280640</td>\n",
       "      <td>0.272273</td>\n",
       "      <td>1.000170e+00</td>\n",
       "      <td>1.000170e+00</td>\n",
       "      <td>0.295571</td>\n",
       "      <td>0.340305</td>\n",
       "      <td>20.485912</td>\n",
       "      <td>0.295749</td>\n",
       "      <td>0.302967</td>\n",
       "      <td>1.000170e+00</td>\n",
       "      <td>0.298637</td>\n",
       "      <td>0.389081</td>\n",
       "      <td>1.000170e+00</td>\n",
       "      <td>1.000170e+00</td>\n",
       "      <td>1.000170e+00</td>\n",
       "      <td>0.284977</td>\n",
       "      <td>3.649192</td>\n",
       "    </tr>\n",
       "    <tr>\n",
       "      <th>min</th>\n",
       "      <td>0.000000</td>\n",
       "      <td>2000.000000</td>\n",
       "      <td>0.000000</td>\n",
       "      <td>0.000000</td>\n",
       "      <td>0.000000</td>\n",
       "      <td>-1.540089e+00</td>\n",
       "      <td>-2.312958e+00</td>\n",
       "      <td>0.000000</td>\n",
       "      <td>0.000000</td>\n",
       "      <td>1.000000</td>\n",
       "      <td>0.000000</td>\n",
       "      <td>0.000000</td>\n",
       "      <td>-3.762931e+00</td>\n",
       "      <td>0.000000</td>\n",
       "      <td>0.000000</td>\n",
       "      <td>-3.073607e+00</td>\n",
       "      <td>-2.426608e+00</td>\n",
       "      <td>-2.172591e+00</td>\n",
       "      <td>0.000000</td>\n",
       "      <td>0.000000</td>\n",
       "    </tr>\n",
       "    <tr>\n",
       "      <th>25%</th>\n",
       "      <td>1.000000</td>\n",
       "      <td>2004.000000</td>\n",
       "      <td>0.249396</td>\n",
       "      <td>0.253333</td>\n",
       "      <td>0.244444</td>\n",
       "      <td>-8.247969e-01</td>\n",
       "      <td>-7.858454e-01</td>\n",
       "      <td>0.245138</td>\n",
       "      <td>0.000000</td>\n",
       "      <td>19.400000</td>\n",
       "      <td>0.230769</td>\n",
       "      <td>0.244444</td>\n",
       "      <td>-5.484182e-01</td>\n",
       "      <td>0.255556</td>\n",
       "      <td>0.000000</td>\n",
       "      <td>-7.687574e-01</td>\n",
       "      <td>-6.717270e-01</td>\n",
       "      <td>-7.715521e-01</td>\n",
       "      <td>0.242630</td>\n",
       "      <td>10.300000</td>\n",
       "    </tr>\n",
       "    <tr>\n",
       "      <th>50%</th>\n",
       "      <td>1.000000</td>\n",
       "      <td>2008.000000</td>\n",
       "      <td>0.522222</td>\n",
       "      <td>0.495726</td>\n",
       "      <td>0.489899</td>\n",
       "      <td>1.080217e-01</td>\n",
       "      <td>-6.462024e-02</td>\n",
       "      <td>0.500000</td>\n",
       "      <td>0.487179</td>\n",
       "      <td>43.900000</td>\n",
       "      <td>0.500000</td>\n",
       "      <td>0.518519</td>\n",
       "      <td>-2.295318e-03</td>\n",
       "      <td>0.518519</td>\n",
       "      <td>0.000000</td>\n",
       "      <td>-2.444449e-02</td>\n",
       "      <td>-8.349672e-02</td>\n",
       "      <td>-2.535882e-02</td>\n",
       "      <td>0.508547</td>\n",
       "      <td>12.500000</td>\n",
       "    </tr>\n",
       "    <tr>\n",
       "      <th>75%</th>\n",
       "      <td>1.000000</td>\n",
       "      <td>2012.000000</td>\n",
       "      <td>0.742690</td>\n",
       "      <td>0.744048</td>\n",
       "      <td>0.766700</td>\n",
       "      <td>7.882520e-01</td>\n",
       "      <td>9.911980e-01</td>\n",
       "      <td>0.777778</td>\n",
       "      <td>0.730711</td>\n",
       "      <td>56.400000</td>\n",
       "      <td>0.767688</td>\n",
       "      <td>0.777778</td>\n",
       "      <td>5.692044e-01</td>\n",
       "      <td>0.777778</td>\n",
       "      <td>0.736111</td>\n",
       "      <td>8.016743e-01</td>\n",
       "      <td>6.764212e-01</td>\n",
       "      <td>8.014589e-01</td>\n",
       "      <td>0.748889</td>\n",
       "      <td>14.600000</td>\n",
       "    </tr>\n",
       "    <tr>\n",
       "      <th>max</th>\n",
       "      <td>1.000000</td>\n",
       "      <td>2015.000000</td>\n",
       "      <td>1.000000</td>\n",
       "      <td>1.000000</td>\n",
       "      <td>1.000000</td>\n",
       "      <td>2.393661e+00</td>\n",
       "      <td>1.623804e+00</td>\n",
       "      <td>1.000000</td>\n",
       "      <td>1.000000</td>\n",
       "      <td>116.135422</td>\n",
       "      <td>1.000000</td>\n",
       "      <td>1.000000</td>\n",
       "      <td>2.871616e+00</td>\n",
       "      <td>1.000000</td>\n",
       "      <td>1.000000</td>\n",
       "      <td>1.746533e+00</td>\n",
       "      <td>2.210668e+00</td>\n",
       "      <td>2.500756e+00</td>\n",
       "      <td>1.000000</td>\n",
       "      <td>26.135726</td>\n",
       "    </tr>\n",
       "  </tbody>\n",
       "</table>\n",
       "</div>"
      ],
      "text/plain": [
       "            STATUS         YEAR  LIFE_EXPECTANCY  ADULT_MORTALITY  \\\n",
       "count  2938.000000  2938.000000      2938.000000      2938.000000   \n",
       "mean      0.825732  2007.518720         0.501309         0.497070   \n",
       "std       0.379405     4.613841         0.278344         0.280640   \n",
       "min       0.000000  2000.000000         0.000000         0.000000   \n",
       "25%       1.000000  2004.000000         0.249396         0.253333   \n",
       "50%       1.000000  2008.000000         0.522222         0.495726   \n",
       "75%       1.000000  2012.000000         0.742690         0.744048   \n",
       "max       1.000000  2015.000000         1.000000         1.000000   \n",
       "\n",
       "       INFANT_DEATHS       ALCOHOL  PERCENTAGE_EXPENDITURE  HEPATITIS_B  \\\n",
       "count    2938.000000  2.938000e+03            2.938000e+03  2938.000000   \n",
       "mean        0.498657 -1.876572e-16           -7.742842e-17     0.506461   \n",
       "std         0.272273  1.000170e+00            1.000170e+00     0.295571   \n",
       "min         0.000000 -1.540089e+00           -2.312958e+00     0.000000   \n",
       "25%         0.244444 -8.247969e-01           -7.858454e-01     0.245138   \n",
       "50%         0.489899  1.080217e-01           -6.462024e-02     0.500000   \n",
       "75%         0.766700  7.882520e-01            9.911980e-01     0.777778   \n",
       "max         1.000000  2.393661e+00            1.623804e+00     1.000000   \n",
       "\n",
       "           MEASLES          BMI  UNDER_FIVE_DEATHS        POLIO  \\\n",
       "count  2938.000000  2938.000000        2938.000000  2938.000000   \n",
       "mean      0.431738    38.790629           0.484631     0.509762   \n",
       "std       0.340305    20.485912           0.295749     0.302967   \n",
       "min       0.000000     1.000000           0.000000     0.000000   \n",
       "25%       0.000000    19.400000           0.230769     0.244444   \n",
       "50%       0.487179    43.900000           0.500000     0.518519   \n",
       "75%       0.730711    56.400000           0.767688     0.777778   \n",
       "max       1.000000   116.135422           1.000000     1.000000   \n",
       "\n",
       "       TOTAL_EXPENDITURE   DIPHTHERIA     HIV/AIDS           GDP  \\\n",
       "count       2.938000e+03  2938.000000  2938.000000  2.938000e+03   \n",
       "mean        4.402348e-17     0.505652     0.308969 -4.586755e-16   \n",
       "std         1.000170e+00     0.298637     0.389081  1.000170e+00   \n",
       "min        -3.762931e+00     0.000000     0.000000 -3.073607e+00   \n",
       "25%        -5.484182e-01     0.255556     0.000000 -7.687574e-01   \n",
       "50%        -2.295318e-03     0.518519     0.000000 -2.444449e-02   \n",
       "75%         5.692044e-01     0.777778     0.736111  8.016743e-01   \n",
       "max         2.871616e+00     1.000000     1.000000  1.746533e+00   \n",
       "\n",
       "         POPULATION  THINNESS_5_to_19_YEARS  INCOME_COMPOSITION_OF_RESOURCES  \\\n",
       "count  2.938000e+03            2.938000e+03                      2938.000000   \n",
       "mean   1.053540e-16           -2.648966e-16                         0.498775   \n",
       "std    1.000170e+00            1.000170e+00                         0.284977   \n",
       "min   -2.426608e+00           -2.172591e+00                         0.000000   \n",
       "25%   -6.717270e-01           -7.715521e-01                         0.242630   \n",
       "50%   -8.349672e-02           -2.535882e-02                         0.508547   \n",
       "75%    6.764212e-01            8.014589e-01                         0.748889   \n",
       "max    2.210668e+00            2.500756e+00                         1.000000   \n",
       "\n",
       "         SCHOOLING  \n",
       "count  2938.000000  \n",
       "mean     12.340658  \n",
       "std       3.649192  \n",
       "min       0.000000  \n",
       "25%      10.300000  \n",
       "50%      12.500000  \n",
       "75%      14.600000  \n",
       "max      26.135726  "
      ]
     },
     "execution_count": 225,
     "metadata": {},
     "output_type": "execute_result"
    }
   ],
   "source": [
    "lifeTransform.describe()"
   ]
  },
  {
   "cell_type": "code",
   "execution_count": null,
   "metadata": {},
   "outputs": [],
   "source": []
  },
  {
   "cell_type": "code",
   "execution_count": 226,
   "metadata": {},
   "outputs": [],
   "source": [
    "#predictors - pd.DataFrame(lifeTransform)"
   ]
  },
  {
   "cell_type": "code",
   "execution_count": null,
   "metadata": {},
   "outputs": [],
   "source": []
  },
  {
   "cell_type": "code",
   "execution_count": 190,
   "metadata": {},
   "outputs": [
    {
     "name": "stdout",
     "output_type": "stream",
     "text": [
      "Train Set : (2350, 19) (2350, 1)\n",
      "Test Set  : (588, 19) (588, 1)\n"
     ]
    }
   ],
   "source": [
    "y = pd.DataFrame(LogsRegDF['STATUS'])\n",
    "x = pd.DataFrame(LogsRegDF.loc[:,~LogsRegDF.columns.isin(['STATUS','COUNTRY'])])\n",
    "\n",
    "x_train, x_test, y_train, y_test = train_test_split(x, y, test_size = 0.2,random_state=0) # set the seed so its reproduceable\n",
    "# Check the sample sizes\n",
    "print(\"Train Set :\", X_train.shape, y_train.shape)\n",
    "print(\"Test Set  :\", X_test.shape, y_test.shape)"
   ]
  },
  {
   "cell_type": "code",
   "execution_count": 230,
   "metadata": {},
   "outputs": [
    {
     "data": {
      "text/plain": [
       "DecisionTreeClassifier(max_depth=4)"
      ]
     },
     "execution_count": 230,
     "metadata": {},
     "output_type": "execute_result"
    }
   ],
   "source": [
    "dectree = DecisionTreeClassifier(max_depth = 4)  # create the decision tree object\n",
    "dectree.fit(x_train, y_train)   "
   ]
  },
  {
   "cell_type": "code",
   "execution_count": 231,
   "metadata": {},
   "outputs": [
    {
     "data": {
      "text/plain": [
       "[Text(0.6041666666666666, 0.9, 'INCOME_COMPOSITION_OF_RESOURCES <= 0.783\\ngini = 0.28\\nsamples = 2350\\nvalue = [1955, 395]\\nclass = Developed'),\n",
       " Text(0.3333333333333333, 0.7, 'ALCOHOL <= 0.746\\ngini = 0.077\\nsamples = 1859\\nvalue = [1784, 75]\\nclass = Developed'),\n",
       " Text(0.16666666666666666, 0.5, 'INCOME_COMPOSITION_OF_RESOURCES <= 0.757\\ngini = 0.014\\nsamples = 1553\\nvalue = [1542, 11]\\nclass = Developed'),\n",
       " Text(0.08333333333333333, 0.3, 'ALCOHOL <= 0.531\\ngini = 0.007\\nsamples = 1513\\nvalue = [1508, 5]\\nclass = Developed'),\n",
       " Text(0.041666666666666664, 0.1, 'gini = 0.0\\nsamples = 1378\\nvalue = [1378, 0]\\nclass = Developed'),\n",
       " Text(0.125, 0.1, 'gini = 0.071\\nsamples = 135\\nvalue = [130, 5]\\nclass = Developed'),\n",
       " Text(0.25, 0.3, 'THINNESS_5_to_19_YEARS <= -1.28\\ngini = 0.255\\nsamples = 40\\nvalue = [34, 6]\\nclass = Developed'),\n",
       " Text(0.20833333333333334, 0.1, 'gini = 0.0\\nsamples = 4\\nvalue = [0, 4]\\nclass = Developing'),\n",
       " Text(0.2916666666666667, 0.1, 'gini = 0.105\\nsamples = 36\\nvalue = [34, 2]\\nclass = Developed'),\n",
       " Text(0.5, 0.5, 'THINNESS_5_to_19_YEARS <= -0.425\\ngini = 0.331\\nsamples = 306\\nvalue = [242, 64]\\nclass = Developed'),\n",
       " Text(0.4166666666666667, 0.3, 'ALCOHOL <= 1.278\\ngini = 0.5\\nsamples = 99\\nvalue = [48, 51]\\nclass = Developing'),\n",
       " Text(0.375, 0.1, 'gini = 0.389\\nsamples = 68\\nvalue = [18, 50]\\nclass = Developing'),\n",
       " Text(0.4583333333333333, 0.1, 'gini = 0.062\\nsamples = 31\\nvalue = [30, 1]\\nclass = Developed'),\n",
       " Text(0.5833333333333334, 0.3, 'YEAR <= 2003.5\\ngini = 0.118\\nsamples = 207\\nvalue = [194, 13]\\nclass = Developed'),\n",
       " Text(0.5416666666666666, 0.1, 'gini = 0.368\\nsamples = 37\\nvalue = [28, 9]\\nclass = Developed'),\n",
       " Text(0.625, 0.1, 'gini = 0.046\\nsamples = 170\\nvalue = [166, 4]\\nclass = Developed'),\n",
       " Text(0.875, 0.7, 'THINNESS_5_to_19_YEARS <= -0.112\\ngini = 0.454\\nsamples = 491\\nvalue = [171, 320]\\nclass = Developing'),\n",
       " Text(0.8333333333333334, 0.5, 'INFANT_DEATHS <= 0.638\\ngini = 0.367\\nsamples = 422\\nvalue = [102, 320]\\nclass = Developing'),\n",
       " Text(0.75, 0.3, 'ALCOHOL <= 0.753\\ngini = 0.468\\nsamples = 171\\nvalue = [64, 107]\\nclass = Developing'),\n",
       " Text(0.7083333333333334, 0.1, 'gini = 0.466\\nsamples = 54\\nvalue = [34, 20]\\nclass = Developed'),\n",
       " Text(0.7916666666666666, 0.1, 'gini = 0.381\\nsamples = 117\\nvalue = [30, 87]\\nclass = Developing'),\n",
       " Text(0.9166666666666666, 0.3, 'ALCOHOL <= -1.104\\ngini = 0.257\\nsamples = 251\\nvalue = [38, 213]\\nclass = Developing'),\n",
       " Text(0.875, 0.1, 'gini = 0.408\\nsamples = 7\\nvalue = [5, 2]\\nclass = Developed'),\n",
       " Text(0.9583333333333334, 0.1, 'gini = 0.234\\nsamples = 244\\nvalue = [33, 211]\\nclass = Developing'),\n",
       " Text(0.9166666666666666, 0.5, 'gini = 0.0\\nsamples = 69\\nvalue = [69, 0]\\nclass = Developed')]"
      ]
     },
     "execution_count": 231,
     "metadata": {},
     "output_type": "execute_result"
    },
    {
     "data": {
      "image/png": "[encoded data removed]",
      "text/plain": [
       "<Figure size 1200x1200 with 1 Axes>"
      ]
     },
     "metadata": {},
     "output_type": "display_data"
    }
   ],
   "source": [
    "# Plot the trained Decision Tree\n",
    "from sklearn.tree import plot_tree\n",
    "\n",
    "f = plt.figure(figsize=(12,12))\n",
    "plot_tree(dectree, filled=True, rounded=True, \n",
    "          feature_names=x_train.columns, \n",
    "          class_names=[\"Developed\",\"Developing\"])"
   ]
  },
  {
   "cell_type": "code",
   "execution_count": 193,
   "metadata": {},
   "outputs": [],
   "source": [
    "y_train_pred = dectree.predict(x_train)\n",
    "y_test_pred = dectree.predict(x_test)"
   ]
  },
  {
   "cell_type": "code",
   "execution_count": 194,
   "metadata": {},
   "outputs": [
    {
     "name": "stdout",
     "output_type": "stream",
     "text": [
      "Goodness of Fit of Model \tTrain Dataset\n",
      "Classification Accuracy \t: 0.9472340425531914\n",
      "\n",
      "Goodness of Fit of Model \tTest Dataset\n",
      "Classification Accuracy \t: 0.9387755102040817\n",
      "\n"
     ]
    }
   ],
   "source": [
    "print(\"Goodness of Fit of Model \\tTrain Dataset\")\n",
    "print(\"Classification Accuracy \\t:\", dectree.score(x_train, y_train))\n",
    "print()\n",
    "\n",
    "# Check the Goodness of Fit (on Test Data)\n",
    "print(\"Goodness of Fit of Model \\tTest Dataset\")\n",
    "print(\"Classification Accuracy \\t:\", dectree.score(x_test, y_test))\n",
    "print()"
   ]
  },
  {
   "cell_type": "code",
   "execution_count": 195,
   "metadata": {},
   "outputs": [
    {
     "data": {
      "text/plain": [
       "<AxesSubplot:>"
      ]
     },
     "execution_count": 195,
     "metadata": {},
     "output_type": "execute_result"
    },
    {
     "data": {
      "image/png": "[encoded data removed]",
      "text/plain": [
       "<Figure size 1200x400 with 4 Axes>"
      ]
     },
     "metadata": {},
     "output_type": "display_data"
    }
   ],
   "source": [
    "f, axes = plt.subplots(1, 2, figsize=(12, 4))\n",
    "sb.heatmap(confusion_matrix(y_train, y_train_pred),\n",
    "           annot = True, fmt=\".0f\", annot_kws={\"size\": 18}, ax = axes[0])\n",
    "sb.heatmap(confusion_matrix(y_test, y_test_pred), \n",
    "           annot = True, fmt=\".0f\", annot_kws={\"size\": 18}, ax = axes[1])"
   ]
  },
  {
   "cell_type": "code",
   "execution_count": 216,
   "metadata": {},
   "outputs": [
    {
     "name": "stdout",
     "output_type": "stream",
     "text": [
      "Train Data for Classification Tree\n",
      "Accuracy  :\t 0.9472340425531914\n",
      "\n",
      "TPR Train :\t 0.7721518987341772\n",
      "TNR Train :\t 0.9560102301790281\n",
      "\n",
      "FPR Train :\t 0.043989769820971865\n",
      "FNR Train :\t 0.22784810126582278\n"
     ]
    }
   ],
   "source": [
    "print(\"Train Data for Classification Tree\")\n",
    "print(\"Accuracy  :\\t\", dectree.score(x_train, y_train))\n",
    "print()\n",
    "\n",
    "# Print the Accuracy Measures from the Confusion Matrix\n",
    "cmTrain = confusion_matrix(y_train, ytrain_pred)\n",
    "tpTrain = cmTrain[1][1] # True Positives : Y (1) predicted Y (1)\n",
    "fpTrain = cmTrain[0][1] # False Positives : N (0) predicted Y (1)\n",
    "tnTrain = cmTrain[0][0] # True Negatives : N (0) predicted N (0)\n",
    "fnTrain = cmTrain[1][0] # False Negatives : Y (1) predicted N (0)\n",
    "\n",
    "print(\"TPR Train :\\t\", (tpTrain/(tpTrain + fnTrain)))\n",
    "print(\"TNR Train :\\t\", (tnTrain/(tnTrain + fpTrain)))\n",
    "print()\n",
    "\n",
    "print(\"FPR Train :\\t\", (fpTrain/(tnTrain + fpTrain)))\n",
    "print(\"FNR Train :\\t\", (fnTrain/(tpTrain + fnTrain)))"
   ]
  },
  {
   "cell_type": "code",
   "execution_count": 218,
   "metadata": {},
   "outputs": [
    {
     "name": "stdout",
     "output_type": "stream",
     "text": [
      "Test Data for Logistics Regression\n",
      "Accuracy  :\t 0.9387755102040817\n",
      "\n",
      "TPR Test :\t 0.7863247863247863\n",
      "TNR Test :\t 0.9575371549893843\n",
      "\n",
      "FPR Test :\t 0.04246284501061571\n",
      "FNR Test :\t 0.21367521367521367\n"
     ]
    }
   ],
   "source": [
    "print(\"Test Data for Logistics Regression\")\n",
    "print(\"Accuracy  :\\t\", dectree.score(X_test, y_test))\n",
    "print()\n",
    "\n",
    "# Print the Accuracy Measures from the Confusion Matrix\n",
    "cmTest = confusion_matrix(y_test, ytest_pred)\n",
    "tpTest = cmTest[1][1] # True Positives : Y (1) predicted Y (1)\n",
    "fpTest = cmTest[0][1] # False Positives : N (0) predicted Y (1)\n",
    "tnTest = cmTest[0][0] # True Negatives : N (0) predicted N (0)\n",
    "fnTest = cmTest[1][0] # False Negatives : Y (1) predicted N (0)\n",
    "\n",
    "print(\"TPR Test :\\t\", (tpTest/(tpTest + fnTest)))\n",
    "print(\"TNR Test :\\t\", (tnTest/(tnTest + fpTest)))\n",
    "print()\n",
    "\n",
    "print(\"FPR Test :\\t\", (fpTest/(fpTest + tnTest)))\n",
    "print(\"FNR Test :\\t\", (fnTest/(fnTest + tpTest)))"
   ]
  },
  {
   "cell_type": "code",
   "execution_count": null,
   "metadata": {},
   "outputs": [],
   "source": []
  },
  {
   "cell_type": "code",
   "execution_count": null,
   "metadata": {},
   "outputs": [],
   "source": []
  },
  {
   "cell_type": "markdown",
   "metadata": {},
   "source": [
    "#Logistics Regression\n"
   ]
  },
  {
   "cell_type": "code",
   "execution_count": 81,
   "metadata": {
    "scrolled": true
   },
   "outputs": [
    {
     "data": {
      "text/plain": [
       "<AxesSubplot:xlabel='LIFE_EXPECTANCY', ylabel='LIFE_EXPECTANCY'>"
      ]
     },
     "execution_count": 81,
     "metadata": {},
     "output_type": "execute_result"
    },
    {
     "data": {
      "image/png": "[encoded data removed]",
      "text/plain": [
       "<Figure size 640x480 with 1 Axes>"
      ]
     },
     "metadata": {},
     "output_type": "display_data"
    }
   ],
   "source": [
    "sb.scatterplot(x= lifeTransform[\"LIFE_EXPECTANCY\"], y= lifeTransform[\"LIFE_EXPECTANCY\"] , hue= lifeTransform[\"STATUS\"])"
   ]
  },
  {
   "cell_type": "code",
   "execution_count": 82,
   "metadata": {
    "scrolled": true
   },
   "outputs": [
    {
     "data": {
      "text/plain": [
       "<AxesSubplot:xlabel='LIFE_EXPECTANCY', ylabel='LIFE_EXPECTANCY'>"
      ]
     },
     "execution_count": 82,
     "metadata": {},
     "output_type": "execute_result"
    },
    {
     "data": {
      "image/png": "[encoded data removed]",
      "text/plain": [
       "<Figure size 640x480 with 1 Axes>"
      ]
     },
     "metadata": {},
     "output_type": "display_data"
    }
   ],
   "source": [
    "life_filled=pd.read_csv(\"dataset/life_filled.csv\")\n",
    "sb.scatterplot(x= life_filled[\"LIFE_EXPECTANCY\"], y= life_filled[\"LIFE_EXPECTANCY\"] , hue=life_filled[\"STATUS\"])"
   ]
  },
  {
   "cell_type": "markdown",
   "metadata": {},
   "source": [
    "As can see here, Developed countries seem to have a greater life expectancy, hence we will use logistics regression to understand "
   ]
  },
  {
   "cell_type": "code",
   "execution_count": 83,
   "metadata": {},
   "outputs": [],
   "source": [
    "from sklearn.linear_model import LogisticRegression\n",
    "from sklearn.datasets import make_classification\n"
   ]
  },
  {
   "cell_type": "code",
   "execution_count": 84,
   "metadata": {},
   "outputs": [
    {
     "name": "stdout",
     "output_type": "stream",
     "text": [
      "Data dimensions (2938, 22)\n"
     ]
    },
    {
     "data": {
      "text/html": [
       "<div>\n",
       "<style scoped>\n",
       "    .dataframe tbody tr th:only-of-type {\n",
       "        vertical-align: middle;\n",
       "    }\n",
       "\n",
       "    .dataframe tbody tr th {\n",
       "        vertical-align: top;\n",
       "    }\n",
       "\n",
       "    .dataframe thead th {\n",
       "        text-align: right;\n",
       "    }\n",
       "</style>\n",
       "<table border=\"1\" class=\"dataframe\">\n",
       "  <thead>\n",
       "    <tr style=\"text-align: right;\">\n",
       "      <th></th>\n",
       "      <th>Unnamed: 0</th>\n",
       "      <th>COUNTRY</th>\n",
       "      <th>STATUS</th>\n",
       "      <th>YEAR</th>\n",
       "      <th>LIFE_EXPECTANCY</th>\n",
       "      <th>ADULT_MORTALITY</th>\n",
       "      <th>INFANT_DEATHS</th>\n",
       "      <th>ALCOHOL</th>\n",
       "      <th>PERCENTAGE_EXPENDITURE</th>\n",
       "      <th>HEPATITIS_B</th>\n",
       "      <th>...</th>\n",
       "      <th>UNDER_FIVE_DEATHS</th>\n",
       "      <th>POLIO</th>\n",
       "      <th>TOTAL_EXPENDITURE</th>\n",
       "      <th>DIPHTHERIA</th>\n",
       "      <th>HIV/AIDS</th>\n",
       "      <th>GDP</th>\n",
       "      <th>POPULATION</th>\n",
       "      <th>THINNESS_5_to_19_YEARS</th>\n",
       "      <th>INCOME_COMPOSITION_OF_RESOURCES</th>\n",
       "      <th>SCHOOLING</th>\n",
       "    </tr>\n",
       "  </thead>\n",
       "  <tbody>\n",
       "    <tr>\n",
       "      <th>0</th>\n",
       "      <td>0</td>\n",
       "      <td>Afghanistan</td>\n",
       "      <td>1</td>\n",
       "      <td>2015.0</td>\n",
       "      <td>0.294686</td>\n",
       "      <td>0.802268</td>\n",
       "      <td>0.606280</td>\n",
       "      <td>-1.540089</td>\n",
       "      <td>-0.653537</td>\n",
       "      <td>0.317298</td>\n",
       "      <td>...</td>\n",
       "      <td>0.616162</td>\n",
       "      <td>0.006410</td>\n",
       "      <td>0.562634</td>\n",
       "      <td>0.171717</td>\n",
       "      <td>0.0</td>\n",
       "      <td>-0.765913</td>\n",
       "      <td>0.695802</td>\n",
       "      <td>1.863475</td>\n",
       "      <td>0.215278</td>\n",
       "      <td>10.1</td>\n",
       "    </tr>\n",
       "    <tr>\n",
       "      <th>1</th>\n",
       "      <td>1</td>\n",
       "      <td>Afghanistan</td>\n",
       "      <td>1</td>\n",
       "      <td>2014.0</td>\n",
       "      <td>0.187396</td>\n",
       "      <td>0.813152</td>\n",
       "      <td>0.611111</td>\n",
       "      <td>-1.540089</td>\n",
       "      <td>-0.641558</td>\n",
       "      <td>0.293245</td>\n",
       "      <td>...</td>\n",
       "      <td>0.621212</td>\n",
       "      <td>0.127778</td>\n",
       "      <td>0.567017</td>\n",
       "      <td>0.156566</td>\n",
       "      <td>0.0</td>\n",
       "      <td>-0.745047</td>\n",
       "      <td>-0.642920</td>\n",
       "      <td>1.881842</td>\n",
       "      <td>0.211111</td>\n",
       "      <td>10.0</td>\n",
       "    </tr>\n",
       "    <tr>\n",
       "      <th>2</th>\n",
       "      <td>2</td>\n",
       "      <td>Afghanistan</td>\n",
       "      <td>1</td>\n",
       "      <td>2013.0</td>\n",
       "      <td>0.187396</td>\n",
       "      <td>0.809070</td>\n",
       "      <td>0.615942</td>\n",
       "      <td>-1.540089</td>\n",
       "      <td>-0.643161</td>\n",
       "      <td>0.309280</td>\n",
       "      <td>...</td>\n",
       "      <td>0.626263</td>\n",
       "      <td>0.150000</td>\n",
       "      <td>0.556038</td>\n",
       "      <td>0.166667</td>\n",
       "      <td>0.0</td>\n",
       "      <td>-0.731598</td>\n",
       "      <td>0.674292</td>\n",
       "      <td>1.896363</td>\n",
       "      <td>0.202778</td>\n",
       "      <td>9.9</td>\n",
       "    </tr>\n",
       "    <tr>\n",
       "      <th>3</th>\n",
       "      <td>3</td>\n",
       "      <td>Afghanistan</td>\n",
       "      <td>1</td>\n",
       "      <td>2012.0</td>\n",
       "      <td>0.180763</td>\n",
       "      <td>0.814512</td>\n",
       "      <td>0.623188</td>\n",
       "      <td>-1.540089</td>\n",
       "      <td>-0.617785</td>\n",
       "      <td>0.333333</td>\n",
       "      <td>...</td>\n",
       "      <td>0.632997</td>\n",
       "      <td>0.177778</td>\n",
       "      <td>0.639925</td>\n",
       "      <td>0.181818</td>\n",
       "      <td>0.0</td>\n",
       "      <td>-0.705787</td>\n",
       "      <td>-0.011252</td>\n",
       "      <td>1.914304</td>\n",
       "      <td>0.193056</td>\n",
       "      <td>9.8</td>\n",
       "    </tr>\n",
       "    <tr>\n",
       "      <th>4</th>\n",
       "      <td>4</td>\n",
       "      <td>Afghanistan</td>\n",
       "      <td>1</td>\n",
       "      <td>2011.0</td>\n",
       "      <td>0.175788</td>\n",
       "      <td>0.818594</td>\n",
       "      <td>0.628019</td>\n",
       "      <td>-1.540089</td>\n",
       "      <td>-1.506529</td>\n",
       "      <td>0.340278</td>\n",
       "      <td>...</td>\n",
       "      <td>0.639731</td>\n",
       "      <td>0.183333</td>\n",
       "      <td>0.497836</td>\n",
       "      <td>0.186869</td>\n",
       "      <td>0.0</td>\n",
       "      <td>-1.725140</td>\n",
       "      <td>-0.073218</td>\n",
       "      <td>1.932018</td>\n",
       "      <td>0.180556</td>\n",
       "      <td>9.5</td>\n",
       "    </tr>\n",
       "  </tbody>\n",
       "</table>\n",
       "<p>5 rows × 22 columns</p>\n",
       "</div>"
      ],
      "text/plain": [
       "   Unnamed: 0      COUNTRY  STATUS    YEAR  LIFE_EXPECTANCY  ADULT_MORTALITY  \\\n",
       "0           0  Afghanistan       1  2015.0         0.294686         0.802268   \n",
       "1           1  Afghanistan       1  2014.0         0.187396         0.813152   \n",
       "2           2  Afghanistan       1  2013.0         0.187396         0.809070   \n",
       "3           3  Afghanistan       1  2012.0         0.180763         0.814512   \n",
       "4           4  Afghanistan       1  2011.0         0.175788         0.818594   \n",
       "\n",
       "   INFANT_DEATHS   ALCOHOL  PERCENTAGE_EXPENDITURE  HEPATITIS_B  ...  \\\n",
       "0       0.606280 -1.540089               -0.653537     0.317298  ...   \n",
       "1       0.611111 -1.540089               -0.641558     0.293245  ...   \n",
       "2       0.615942 -1.540089               -0.643161     0.309280  ...   \n",
       "3       0.623188 -1.540089               -0.617785     0.333333  ...   \n",
       "4       0.628019 -1.540089               -1.506529     0.340278  ...   \n",
       "\n",
       "   UNDER_FIVE_DEATHS     POLIO  TOTAL_EXPENDITURE  DIPHTHERIA  HIV/AIDS  \\\n",
       "0           0.616162  0.006410           0.562634    0.171717       0.0   \n",
       "1           0.621212  0.127778           0.567017    0.156566       0.0   \n",
       "2           0.626263  0.150000           0.556038    0.166667       0.0   \n",
       "3           0.632997  0.177778           0.639925    0.181818       0.0   \n",
       "4           0.639731  0.183333           0.497836    0.186869       0.0   \n",
       "\n",
       "        GDP  POPULATION  THINNESS_5_to_19_YEARS  \\\n",
       "0 -0.765913    0.695802                1.863475   \n",
       "1 -0.745047   -0.642920                1.881842   \n",
       "2 -0.731598    0.674292                1.896363   \n",
       "3 -0.705787   -0.011252                1.914304   \n",
       "4 -1.725140   -0.073218                1.932018   \n",
       "\n",
       "   INCOME_COMPOSITION_OF_RESOURCES  SCHOOLING  \n",
       "0                         0.215278       10.1  \n",
       "1                         0.211111       10.0  \n",
       "2                         0.202778        9.9  \n",
       "3                         0.193056        9.8  \n",
       "4                         0.180556        9.5  \n",
       "\n",
       "[5 rows x 22 columns]"
      ]
     },
     "execution_count": 84,
     "metadata": {},
     "output_type": "execute_result"
    }
   ],
   "source": [
    "LogsRegDF = pd.read_csv(\"dataset/life_transform.csv\")\n",
    "print(\"Data dimensions\", LogsRegDF.shape)\n",
    "LogsRegDF.head()"
   ]
  },
  {
   "cell_type": "code",
   "execution_count": 86,
   "metadata": {
    "scrolled": true
   },
   "outputs": [
    {
     "data": {
      "text/html": [
       "<div>\n",
       "<style scoped>\n",
       "    .dataframe tbody tr th:only-of-type {\n",
       "        vertical-align: middle;\n",
       "    }\n",
       "\n",
       "    .dataframe tbody tr th {\n",
       "        vertical-align: top;\n",
       "    }\n",
       "\n",
       "    .dataframe thead th {\n",
       "        text-align: right;\n",
       "    }\n",
       "</style>\n",
       "<table border=\"1\" class=\"dataframe\">\n",
       "  <thead>\n",
       "    <tr style=\"text-align: right;\">\n",
       "      <th></th>\n",
       "      <th>SCHOOLING</th>\n",
       "      <th>STATUS</th>\n",
       "    </tr>\n",
       "  </thead>\n",
       "  <tbody>\n",
       "    <tr>\n",
       "      <th>0</th>\n",
       "      <td>10.1</td>\n",
       "      <td>1</td>\n",
       "    </tr>\n",
       "    <tr>\n",
       "      <th>1</th>\n",
       "      <td>10.0</td>\n",
       "      <td>1</td>\n",
       "    </tr>\n",
       "    <tr>\n",
       "      <th>2</th>\n",
       "      <td>9.9</td>\n",
       "      <td>1</td>\n",
       "    </tr>\n",
       "    <tr>\n",
       "      <th>3</th>\n",
       "      <td>9.8</td>\n",
       "      <td>1</td>\n",
       "    </tr>\n",
       "    <tr>\n",
       "      <th>4</th>\n",
       "      <td>9.5</td>\n",
       "      <td>1</td>\n",
       "    </tr>\n",
       "    <tr>\n",
       "      <th>...</th>\n",
       "      <td>...</td>\n",
       "      <td>...</td>\n",
       "    </tr>\n",
       "    <tr>\n",
       "      <th>995</th>\n",
       "      <td>17.0</td>\n",
       "      <td>0</td>\n",
       "    </tr>\n",
       "    <tr>\n",
       "      <th>996</th>\n",
       "      <td>16.9</td>\n",
       "      <td>0</td>\n",
       "    </tr>\n",
       "    <tr>\n",
       "      <th>997</th>\n",
       "      <td>16.9</td>\n",
       "      <td>0</td>\n",
       "    </tr>\n",
       "    <tr>\n",
       "      <th>998</th>\n",
       "      <td>16.8</td>\n",
       "      <td>0</td>\n",
       "    </tr>\n",
       "    <tr>\n",
       "      <th>999</th>\n",
       "      <td>16.7</td>\n",
       "      <td>0</td>\n",
       "    </tr>\n",
       "  </tbody>\n",
       "</table>\n",
       "<p>1000 rows × 2 columns</p>\n",
       "</div>"
      ],
      "text/plain": [
       "     SCHOOLING  STATUS\n",
       "0         10.1       1\n",
       "1         10.0       1\n",
       "2          9.9       1\n",
       "3          9.8       1\n",
       "4          9.5       1\n",
       "..         ...     ...\n",
       "995       17.0       0\n",
       "996       16.9       0\n",
       "997       16.9       0\n",
       "998       16.8       0\n",
       "999       16.7       0\n",
       "\n",
       "[1000 rows x 2 columns]"
      ]
     },
     "execution_count": 86,
     "metadata": {},
     "output_type": "execute_result"
    }
   ],
   "source": [
    "logsRegPred = pd.DataFrame(LogsRegDF[[\"SCHOOLING\", \"STATUS\"]])\n",
    "logsRegPred.head(n = 1000)"
   ]
  },
  {
   "cell_type": "code",
   "execution_count": 87,
   "metadata": {},
   "outputs": [
    {
     "data": {
      "text/plain": [
       "(2938, 2)"
      ]
     },
     "execution_count": 87,
     "metadata": {},
     "output_type": "execute_result"
    }
   ],
   "source": [
    "logsRegPred.shape\n"
   ]
  },
  {
   "cell_type": "code",
   "execution_count": 88,
   "metadata": {},
   "outputs": [],
   "source": [
    "Schooling = pd.DataFrame(LogsRegDF[\"SCHOOLING\"])\n",
    "CountryStatus = pd.DataFrame(LogsRegDF[\"STATUS\"])\n"
   ]
  },
  {
   "cell_type": "code",
   "execution_count": 123,
   "metadata": {
    "scrolled": false
   },
   "outputs": [
    {
     "data": {
      "text/html": [
       "<div>\n",
       "<style scoped>\n",
       "    .dataframe tbody tr th:only-of-type {\n",
       "        vertical-align: middle;\n",
       "    }\n",
       "\n",
       "    .dataframe tbody tr th {\n",
       "        vertical-align: top;\n",
       "    }\n",
       "\n",
       "    .dataframe thead th {\n",
       "        text-align: right;\n",
       "    }\n",
       "</style>\n",
       "<table border=\"1\" class=\"dataframe\">\n",
       "  <thead>\n",
       "    <tr style=\"text-align: right;\">\n",
       "      <th></th>\n",
       "      <th>STATUS</th>\n",
       "    </tr>\n",
       "  </thead>\n",
       "  <tbody>\n",
       "    <tr>\n",
       "      <th>0</th>\n",
       "      <td>0</td>\n",
       "    </tr>\n",
       "    <tr>\n",
       "      <th>1</th>\n",
       "      <td>0</td>\n",
       "    </tr>\n",
       "    <tr>\n",
       "      <th>2</th>\n",
       "      <td>0</td>\n",
       "    </tr>\n",
       "    <tr>\n",
       "      <th>3</th>\n",
       "      <td>0</td>\n",
       "    </tr>\n",
       "    <tr>\n",
       "      <th>4</th>\n",
       "      <td>0</td>\n",
       "    </tr>\n",
       "    <tr>\n",
       "      <th>...</th>\n",
       "      <td>...</td>\n",
       "    </tr>\n",
       "    <tr>\n",
       "      <th>2933</th>\n",
       "      <td>0</td>\n",
       "    </tr>\n",
       "    <tr>\n",
       "      <th>2934</th>\n",
       "      <td>0</td>\n",
       "    </tr>\n",
       "    <tr>\n",
       "      <th>2935</th>\n",
       "      <td>0</td>\n",
       "    </tr>\n",
       "    <tr>\n",
       "      <th>2936</th>\n",
       "      <td>0</td>\n",
       "    </tr>\n",
       "    <tr>\n",
       "      <th>2937</th>\n",
       "      <td>0</td>\n",
       "    </tr>\n",
       "  </tbody>\n",
       "</table>\n",
       "<p>2938 rows × 1 columns</p>\n",
       "</div>"
      ],
      "text/plain": [
       "      STATUS\n",
       "0          0\n",
       "1          0\n",
       "2          0\n",
       "3          0\n",
       "4          0\n",
       "...      ...\n",
       "2933       0\n",
       "2934       0\n",
       "2935       0\n",
       "2936       0\n",
       "2937       0\n",
       "\n",
       "[2938 rows x 1 columns]"
      ]
     },
     "execution_count": 123,
     "metadata": {},
     "output_type": "execute_result"
    }
   ],
   "source": [
    "CountryStatus = pd.get_dummies(CountryStatus, drop_first = False)\n",
    "CountryStatus['STATUS'] = 1 - CountryStatus['STATUS']\n",
    "#@CountryStatus.sample(n=5)\n",
    "#CountryStatus[\"STATUS\"]  = CountryStatus[\"STATUS\"].replace({1:0, 0:1})\n",
    "CountryStatus\n",
    "#df_dummies['A_1'] = 1 - df_dummies['A_1']"
   ]
  },
  {
   "cell_type": "markdown",
   "metadata": {},
   "source": [
    "# 1 Means Country is Considered As Developed\n",
    "# 0 Means Country is Considered As Developing"
   ]
  },
  {
   "cell_type": "code",
   "execution_count": 125,
   "metadata": {},
   "outputs": [
    {
     "data": {
      "text/plain": [
       "STATUS    int64\n",
       "dtype: object"
      ]
     },
     "execution_count": 125,
     "metadata": {},
     "output_type": "execute_result"
    }
   ],
   "source": [
    "CountryStatus.dtypes"
   ]
  },
  {
   "cell_type": "code",
   "execution_count": 126,
   "metadata": {},
   "outputs": [
    {
     "data": {
      "image/png": "[encoded data removed]",
      "text/plain": [
       "<Figure size 640x480 with 1 Axes>"
      ]
     },
     "metadata": {},
     "output_type": "display_data"
    }
   ],
   "source": [
    "#colors = ['red' if CountryStatus == 1 else 'yellow']\n",
    "plt.scatter(Schooling, CountryStatus,  cmap='Rainbow')\n",
    "plt.xlabel (\"Schooling\")\n",
    "plt.ylabel(\"Country Development Status\")\n",
    "\n",
    "plt.title('Scatter Plot of Logistic Regression (Schooling Vs Country Development Status)')\n",
    "#plt.plot(Schooling, linreg.predict([[\"Schooling\"]]), color = \"green\")\n",
    "plt.show()"
   ]
  },
  {
   "cell_type": "code",
   "execution_count": 127,
   "metadata": {},
   "outputs": [],
   "source": [
    "SchoolingTrain, SchoolingTest, CountryStatusTrain, CountryStatusTest = train_test_split(Schooling, CountryStatus, test_size = 0.25)"
   ]
  },
  {
   "cell_type": "code",
   "execution_count": 128,
   "metadata": {},
   "outputs": [],
   "source": [
    "LogReg = LogisticRegression(max_iter=2938)"
   ]
  },
  {
   "cell_type": "code",
   "execution_count": 129,
   "metadata": {},
   "outputs": [
    {
     "name": "stderr",
     "output_type": "stream",
     "text": [
      "C:\\Users\\lotzi\\anaconda3\\lib\\site-packages\\sklearn\\utils\\validation.py:993: DataConversionWarning: A column-vector y was passed when a 1d array was expected. Please change the shape of y to (n_samples, ), for example using ravel().\n",
      "  y = column_or_1d(y, warn=True)\n"
     ]
    },
    {
     "data": {
      "text/plain": [
       "LogisticRegression(max_iter=2938)"
      ]
     },
     "execution_count": 129,
     "metadata": {},
     "output_type": "execute_result"
    }
   ],
   "source": [
    "LogReg.fit(SchoolingTrain, CountryStatusTrain)"
   ]
  },
  {
   "cell_type": "code",
   "execution_count": 159,
   "metadata": {
    "scrolled": true
   },
   "outputs": [
    {
     "name": "stdout",
     "output_type": "stream",
     "text": [
      "citizen with 20 years schooling will most likely live in Developed Country\n",
      "citizen with 2 years schooling will most likely live in Developing Country\n"
     ]
    },
    {
     "name": "stderr",
     "output_type": "stream",
     "text": [
      "C:\\Users\\lotzi\\anaconda3\\lib\\site-packages\\sklearn\\base.py:450: UserWarning: X does not have valid feature names, but LogisticRegression was fitted with feature names\n",
      "  warnings.warn(\n",
      "C:\\Users\\lotzi\\anaconda3\\lib\\site-packages\\sklearn\\base.py:450: UserWarning: X does not have valid feature names, but LogisticRegression was fitted with feature names\n",
      "  warnings.warn(\n"
     ]
    }
   ],
   "source": [
    "#Try to predict citizen in a certain country with 20 years of schooling vs 2 year of schooling\n",
    "x = LogReg.predict(np.array([[20]]))[0]\n",
    "if x==1:\n",
    "    status = \"Developed\"\n",
    "else:\n",
    "    status = \"Developing\"\n",
    "print(\"citizen with 20 years schooling will most likely live in\", status, \"Country\")\n",
    "\n",
    "x = LogReg.predict(np.array([[2]]))[0]\n",
    "if x==1:\n",
    "    status = \"Developed\"\n",
    "else:\n",
    "    status = \"Developing\"\n",
    "print(\"citizen with 2 years schooling will most likely live in\", status, \"Country\")"
   ]
  },
  {
   "cell_type": "markdown",
   "metadata": {},
   "source": [
    "#multi variate logs regression\n"
   ]
  },
  {
   "cell_type": "code",
   "execution_count": 131,
   "metadata": {
    "scrolled": false
   },
   "outputs": [
    {
     "data": {
      "text/html": [
       "<div>\n",
       "<style scoped>\n",
       "    .dataframe tbody tr th:only-of-type {\n",
       "        vertical-align: middle;\n",
       "    }\n",
       "\n",
       "    .dataframe tbody tr th {\n",
       "        vertical-align: top;\n",
       "    }\n",
       "\n",
       "    .dataframe thead th {\n",
       "        text-align: right;\n",
       "    }\n",
       "</style>\n",
       "<table border=\"1\" class=\"dataframe\">\n",
       "  <thead>\n",
       "    <tr style=\"text-align: right;\">\n",
       "      <th></th>\n",
       "      <th>STATUS</th>\n",
       "      <th>YEAR</th>\n",
       "      <th>LIFE_EXPECTANCY</th>\n",
       "      <th>ADULT_MORTALITY</th>\n",
       "      <th>INFANT_DEATHS</th>\n",
       "      <th>ALCOHOL</th>\n",
       "      <th>PERCENTAGE_EXPENDITURE</th>\n",
       "      <th>HEPATITIS_B</th>\n",
       "      <th>MEASLES</th>\n",
       "      <th>BMI</th>\n",
       "      <th>UNDER_FIVE_DEATHS</th>\n",
       "      <th>POLIO</th>\n",
       "      <th>TOTAL_EXPENDITURE</th>\n",
       "      <th>DIPHTHERIA</th>\n",
       "      <th>HIV/AIDS</th>\n",
       "      <th>GDP</th>\n",
       "      <th>POPULATION</th>\n",
       "      <th>THINNESS_5_to_19_YEARS</th>\n",
       "      <th>INCOME_COMPOSITION_OF_RESOURCES</th>\n",
       "      <th>SCHOOLING</th>\n",
       "    </tr>\n",
       "  </thead>\n",
       "  <tbody>\n",
       "    <tr>\n",
       "      <th>0</th>\n",
       "      <td>0</td>\n",
       "      <td>2015.0</td>\n",
       "      <td>0.294686</td>\n",
       "      <td>0.802268</td>\n",
       "      <td>0.606280</td>\n",
       "      <td>-1.540089</td>\n",
       "      <td>-0.653537</td>\n",
       "      <td>0.317298</td>\n",
       "      <td>0.806913</td>\n",
       "      <td>19.1</td>\n",
       "      <td>0.616162</td>\n",
       "      <td>0.006410</td>\n",
       "      <td>0.562634</td>\n",
       "      <td>0.171717</td>\n",
       "      <td>0.0</td>\n",
       "      <td>-0.765913</td>\n",
       "      <td>0.695802</td>\n",
       "      <td>1.863475</td>\n",
       "      <td>0.215278</td>\n",
       "      <td>10.1</td>\n",
       "    </tr>\n",
       "    <tr>\n",
       "      <th>1</th>\n",
       "      <td>0</td>\n",
       "      <td>2014.0</td>\n",
       "      <td>0.187396</td>\n",
       "      <td>0.813152</td>\n",
       "      <td>0.611111</td>\n",
       "      <td>-1.540089</td>\n",
       "      <td>-0.641558</td>\n",
       "      <td>0.293245</td>\n",
       "      <td>0.766886</td>\n",
       "      <td>18.6</td>\n",
       "      <td>0.621212</td>\n",
       "      <td>0.127778</td>\n",
       "      <td>0.567017</td>\n",
       "      <td>0.156566</td>\n",
       "      <td>0.0</td>\n",
       "      <td>-0.745047</td>\n",
       "      <td>-0.642920</td>\n",
       "      <td>1.881842</td>\n",
       "      <td>0.211111</td>\n",
       "      <td>10.0</td>\n",
       "    </tr>\n",
       "    <tr>\n",
       "      <th>2</th>\n",
       "      <td>0</td>\n",
       "      <td>2013.0</td>\n",
       "      <td>0.187396</td>\n",
       "      <td>0.809070</td>\n",
       "      <td>0.615942</td>\n",
       "      <td>-1.540089</td>\n",
       "      <td>-0.643161</td>\n",
       "      <td>0.309280</td>\n",
       "      <td>0.749863</td>\n",
       "      <td>18.1</td>\n",
       "      <td>0.626263</td>\n",
       "      <td>0.150000</td>\n",
       "      <td>0.556038</td>\n",
       "      <td>0.166667</td>\n",
       "      <td>0.0</td>\n",
       "      <td>-0.731598</td>\n",
       "      <td>0.674292</td>\n",
       "      <td>1.896363</td>\n",
       "      <td>0.202778</td>\n",
       "      <td>9.9</td>\n",
       "    </tr>\n",
       "    <tr>\n",
       "      <th>3</th>\n",
       "      <td>0</td>\n",
       "      <td>2012.0</td>\n",
       "      <td>0.180763</td>\n",
       "      <td>0.814512</td>\n",
       "      <td>0.623188</td>\n",
       "      <td>-1.540089</td>\n",
       "      <td>-0.617785</td>\n",
       "      <td>0.333333</td>\n",
       "      <td>0.883365</td>\n",
       "      <td>17.6</td>\n",
       "      <td>0.632997</td>\n",
       "      <td>0.177778</td>\n",
       "      <td>0.639925</td>\n",
       "      <td>0.181818</td>\n",
       "      <td>0.0</td>\n",
       "      <td>-0.705787</td>\n",
       "      <td>-0.011252</td>\n",
       "      <td>1.914304</td>\n",
       "      <td>0.193056</td>\n",
       "      <td>9.8</td>\n",
       "    </tr>\n",
       "    <tr>\n",
       "      <th>4</th>\n",
       "      <td>0</td>\n",
       "      <td>2011.0</td>\n",
       "      <td>0.175788</td>\n",
       "      <td>0.818594</td>\n",
       "      <td>0.628019</td>\n",
       "      <td>-1.540089</td>\n",
       "      <td>-1.506529</td>\n",
       "      <td>0.340278</td>\n",
       "      <td>0.888946</td>\n",
       "      <td>17.2</td>\n",
       "      <td>0.639731</td>\n",
       "      <td>0.183333</td>\n",
       "      <td>0.497836</td>\n",
       "      <td>0.186869</td>\n",
       "      <td>0.0</td>\n",
       "      <td>-1.725140</td>\n",
       "      <td>-0.073218</td>\n",
       "      <td>1.932018</td>\n",
       "      <td>0.180556</td>\n",
       "      <td>9.5</td>\n",
       "    </tr>\n",
       "  </tbody>\n",
       "</table>\n",
       "</div>"
      ],
      "text/plain": [
       "   STATUS    YEAR  LIFE_EXPECTANCY  ADULT_MORTALITY  INFANT_DEATHS   ALCOHOL  \\\n",
       "0       0  2015.0         0.294686         0.802268       0.606280 -1.540089   \n",
       "1       0  2014.0         0.187396         0.813152       0.611111 -1.540089   \n",
       "2       0  2013.0         0.187396         0.809070       0.615942 -1.540089   \n",
       "3       0  2012.0         0.180763         0.814512       0.623188 -1.540089   \n",
       "4       0  2011.0         0.175788         0.818594       0.628019 -1.540089   \n",
       "\n",
       "   PERCENTAGE_EXPENDITURE  HEPATITIS_B   MEASLES   BMI  UNDER_FIVE_DEATHS  \\\n",
       "0               -0.653537     0.317298  0.806913  19.1           0.616162   \n",
       "1               -0.641558     0.293245  0.766886  18.6           0.621212   \n",
       "2               -0.643161     0.309280  0.749863  18.1           0.626263   \n",
       "3               -0.617785     0.333333  0.883365  17.6           0.632997   \n",
       "4               -1.506529     0.340278  0.888946  17.2           0.639731   \n",
       "\n",
       "      POLIO  TOTAL_EXPENDITURE  DIPHTHERIA  HIV/AIDS       GDP  POPULATION  \\\n",
       "0  0.006410           0.562634    0.171717       0.0 -0.765913    0.695802   \n",
       "1  0.127778           0.567017    0.156566       0.0 -0.745047   -0.642920   \n",
       "2  0.150000           0.556038    0.166667       0.0 -0.731598    0.674292   \n",
       "3  0.177778           0.639925    0.181818       0.0 -0.705787   -0.011252   \n",
       "4  0.183333           0.497836    0.186869       0.0 -1.725140   -0.073218   \n",
       "\n",
       "   THINNESS_5_to_19_YEARS  INCOME_COMPOSITION_OF_RESOURCES  SCHOOLING  \n",
       "0                1.863475                         0.215278       10.1  \n",
       "1                1.881842                         0.211111       10.0  \n",
       "2                1.896363                         0.202778        9.9  \n",
       "3                1.914304                         0.193056        9.8  \n",
       "4                1.932018                         0.180556        9.5  "
      ]
     },
     "execution_count": 131,
     "metadata": {},
     "output_type": "execute_result"
    }
   ],
   "source": [
    "LogsRegDF.drop(columns=LogsRegDF.columns[0],axis=1,inplace=True)\n",
    "LogsRegDF.head()"
   ]
  },
  {
   "cell_type": "code",
   "execution_count": 132,
   "metadata": {},
   "outputs": [
    {
     "data": {
      "text/plain": [
       "STATUS                               int64\n",
       "YEAR                               float64\n",
       "LIFE_EXPECTANCY                    float64\n",
       "ADULT_MORTALITY                    float64\n",
       "INFANT_DEATHS                      float64\n",
       "ALCOHOL                            float64\n",
       "PERCENTAGE_EXPENDITURE             float64\n",
       "HEPATITIS_B                        float64\n",
       "MEASLES                            float64\n",
       "BMI                                float64\n",
       "UNDER_FIVE_DEATHS                  float64\n",
       "POLIO                              float64\n",
       "TOTAL_EXPENDITURE                  float64\n",
       "DIPHTHERIA                         float64\n",
       "HIV/AIDS                           float64\n",
       "GDP                                float64\n",
       "POPULATION                         float64\n",
       "THINNESS_5_to_19_YEARS             float64\n",
       "INCOME_COMPOSITION_OF_RESOURCES    float64\n",
       "SCHOOLING                          float64\n",
       "dtype: object"
      ]
     },
     "execution_count": 132,
     "metadata": {},
     "output_type": "execute_result"
    }
   ],
   "source": [
    "LogsRegDF.dtypes"
   ]
  },
  {
   "cell_type": "code",
   "execution_count": 168,
   "metadata": {
    "scrolled": false
   },
   "outputs": [
    {
     "data": {
      "text/html": [
       "<div>\n",
       "<style scoped>\n",
       "    .dataframe tbody tr th:only-of-type {\n",
       "        vertical-align: middle;\n",
       "    }\n",
       "\n",
       "    .dataframe tbody tr th {\n",
       "        vertical-align: top;\n",
       "    }\n",
       "\n",
       "    .dataframe thead th {\n",
       "        text-align: right;\n",
       "    }\n",
       "</style>\n",
       "<table border=\"1\" class=\"dataframe\">\n",
       "  <thead>\n",
       "    <tr style=\"text-align: right;\">\n",
       "      <th></th>\n",
       "      <th>STATUS</th>\n",
       "      <th>YEAR</th>\n",
       "      <th>LIFE_EXPECTANCY</th>\n",
       "      <th>ADULT_MORTALITY</th>\n",
       "      <th>INFANT_DEATHS</th>\n",
       "      <th>ALCOHOL</th>\n",
       "      <th>PERCENTAGE_EXPENDITURE</th>\n",
       "      <th>HEPATITIS_B</th>\n",
       "      <th>MEASLES</th>\n",
       "      <th>BMI</th>\n",
       "      <th>UNDER_FIVE_DEATHS</th>\n",
       "      <th>POLIO</th>\n",
       "      <th>TOTAL_EXPENDITURE</th>\n",
       "      <th>DIPHTHERIA</th>\n",
       "      <th>HIV/AIDS</th>\n",
       "      <th>GDP</th>\n",
       "      <th>POPULATION</th>\n",
       "      <th>THINNESS_5_to_19_YEARS</th>\n",
       "      <th>INCOME_COMPOSITION_OF_RESOURCES</th>\n",
       "      <th>SCHOOLING</th>\n",
       "    </tr>\n",
       "  </thead>\n",
       "  <tbody>\n",
       "    <tr>\n",
       "      <th>0</th>\n",
       "      <td>0</td>\n",
       "      <td>2015.0</td>\n",
       "      <td>0.294686</td>\n",
       "      <td>0.802268</td>\n",
       "      <td>0.606280</td>\n",
       "      <td>-1.540089</td>\n",
       "      <td>-0.653537</td>\n",
       "      <td>0.317298</td>\n",
       "      <td>0.806913</td>\n",
       "      <td>19.1</td>\n",
       "      <td>0.616162</td>\n",
       "      <td>0.006410</td>\n",
       "      <td>0.562634</td>\n",
       "      <td>0.171717</td>\n",
       "      <td>0.000000</td>\n",
       "      <td>-0.765913</td>\n",
       "      <td>0.695802</td>\n",
       "      <td>1.863475</td>\n",
       "      <td>0.215278</td>\n",
       "      <td>10.1</td>\n",
       "    </tr>\n",
       "    <tr>\n",
       "      <th>1</th>\n",
       "      <td>0</td>\n",
       "      <td>2014.0</td>\n",
       "      <td>0.187396</td>\n",
       "      <td>0.813152</td>\n",
       "      <td>0.611111</td>\n",
       "      <td>-1.540089</td>\n",
       "      <td>-0.641558</td>\n",
       "      <td>0.293245</td>\n",
       "      <td>0.766886</td>\n",
       "      <td>18.6</td>\n",
       "      <td>0.621212</td>\n",
       "      <td>0.127778</td>\n",
       "      <td>0.567017</td>\n",
       "      <td>0.156566</td>\n",
       "      <td>0.000000</td>\n",
       "      <td>-0.745047</td>\n",
       "      <td>-0.642920</td>\n",
       "      <td>1.881842</td>\n",
       "      <td>0.211111</td>\n",
       "      <td>10.0</td>\n",
       "    </tr>\n",
       "    <tr>\n",
       "      <th>2</th>\n",
       "      <td>0</td>\n",
       "      <td>2013.0</td>\n",
       "      <td>0.187396</td>\n",
       "      <td>0.809070</td>\n",
       "      <td>0.615942</td>\n",
       "      <td>-1.540089</td>\n",
       "      <td>-0.643161</td>\n",
       "      <td>0.309280</td>\n",
       "      <td>0.749863</td>\n",
       "      <td>18.1</td>\n",
       "      <td>0.626263</td>\n",
       "      <td>0.150000</td>\n",
       "      <td>0.556038</td>\n",
       "      <td>0.166667</td>\n",
       "      <td>0.000000</td>\n",
       "      <td>-0.731598</td>\n",
       "      <td>0.674292</td>\n",
       "      <td>1.896363</td>\n",
       "      <td>0.202778</td>\n",
       "      <td>9.9</td>\n",
       "    </tr>\n",
       "    <tr>\n",
       "      <th>3</th>\n",
       "      <td>0</td>\n",
       "      <td>2012.0</td>\n",
       "      <td>0.180763</td>\n",
       "      <td>0.814512</td>\n",
       "      <td>0.623188</td>\n",
       "      <td>-1.540089</td>\n",
       "      <td>-0.617785</td>\n",
       "      <td>0.333333</td>\n",
       "      <td>0.883365</td>\n",
       "      <td>17.6</td>\n",
       "      <td>0.632997</td>\n",
       "      <td>0.177778</td>\n",
       "      <td>0.639925</td>\n",
       "      <td>0.181818</td>\n",
       "      <td>0.000000</td>\n",
       "      <td>-0.705787</td>\n",
       "      <td>-0.011252</td>\n",
       "      <td>1.914304</td>\n",
       "      <td>0.193056</td>\n",
       "      <td>9.8</td>\n",
       "    </tr>\n",
       "    <tr>\n",
       "      <th>4</th>\n",
       "      <td>0</td>\n",
       "      <td>2011.0</td>\n",
       "      <td>0.175788</td>\n",
       "      <td>0.818594</td>\n",
       "      <td>0.628019</td>\n",
       "      <td>-1.540089</td>\n",
       "      <td>-1.506529</td>\n",
       "      <td>0.340278</td>\n",
       "      <td>0.888946</td>\n",
       "      <td>17.2</td>\n",
       "      <td>0.639731</td>\n",
       "      <td>0.183333</td>\n",
       "      <td>0.497836</td>\n",
       "      <td>0.186869</td>\n",
       "      <td>0.000000</td>\n",
       "      <td>-1.725140</td>\n",
       "      <td>-0.073218</td>\n",
       "      <td>1.932018</td>\n",
       "      <td>0.180556</td>\n",
       "      <td>9.5</td>\n",
       "    </tr>\n",
       "    <tr>\n",
       "      <th>...</th>\n",
       "      <td>...</td>\n",
       "      <td>...</td>\n",
       "      <td>...</td>\n",
       "      <td>...</td>\n",
       "      <td>...</td>\n",
       "      <td>...</td>\n",
       "      <td>...</td>\n",
       "      <td>...</td>\n",
       "      <td>...</td>\n",
       "      <td>...</td>\n",
       "      <td>...</td>\n",
       "      <td>...</td>\n",
       "      <td>...</td>\n",
       "      <td>...</td>\n",
       "      <td>...</td>\n",
       "      <td>...</td>\n",
       "      <td>...</td>\n",
       "      <td>...</td>\n",
       "      <td>...</td>\n",
       "      <td>...</td>\n",
       "    </tr>\n",
       "    <tr>\n",
       "      <th>2933</th>\n",
       "      <td>0</td>\n",
       "      <td>2004.0</td>\n",
       "      <td>0.046784</td>\n",
       "      <td>1.000000</td>\n",
       "      <td>0.484848</td>\n",
       "      <td>0.149101</td>\n",
       "      <td>1.081648</td>\n",
       "      <td>0.340278</td>\n",
       "      <td>0.547009</td>\n",
       "      <td>27.1</td>\n",
       "      <td>0.534188</td>\n",
       "      <td>0.177778</td>\n",
       "      <td>0.321024</td>\n",
       "      <td>0.171717</td>\n",
       "      <td>0.959553</td>\n",
       "      <td>-0.876123</td>\n",
       "      <td>0.368261</td>\n",
       "      <td>1.109933</td>\n",
       "      <td>0.115278</td>\n",
       "      <td>9.2</td>\n",
       "    </tr>\n",
       "    <tr>\n",
       "      <th>2934</th>\n",
       "      <td>0</td>\n",
       "      <td>2003.0</td>\n",
       "      <td>0.047953</td>\n",
       "      <td>0.997757</td>\n",
       "      <td>0.479798</td>\n",
       "      <td>0.088457</td>\n",
       "      <td>1.061102</td>\n",
       "      <td>0.018072</td>\n",
       "      <td>0.799610</td>\n",
       "      <td>26.7</td>\n",
       "      <td>0.529915</td>\n",
       "      <td>0.008547</td>\n",
       "      <td>0.161034</td>\n",
       "      <td>0.186869</td>\n",
       "      <td>0.966928</td>\n",
       "      <td>-0.877103</td>\n",
       "      <td>0.364611</td>\n",
       "      <td>1.166410</td>\n",
       "      <td>0.130556</td>\n",
       "      <td>9.5</td>\n",
       "    </tr>\n",
       "    <tr>\n",
       "      <th>2935</th>\n",
       "      <td>0</td>\n",
       "      <td>2002.0</td>\n",
       "      <td>0.049708</td>\n",
       "      <td>0.248889</td>\n",
       "      <td>0.474747</td>\n",
       "      <td>0.162786</td>\n",
       "      <td>-2.312958</td>\n",
       "      <td>0.375000</td>\n",
       "      <td>0.715266</td>\n",
       "      <td>26.3</td>\n",
       "      <td>0.525641</td>\n",
       "      <td>0.211111</td>\n",
       "      <td>0.163773</td>\n",
       "      <td>0.202020</td>\n",
       "      <td>0.974304</td>\n",
       "      <td>-1.768514</td>\n",
       "      <td>-0.857872</td>\n",
       "      <td>-0.981848</td>\n",
       "      <td>0.143056</td>\n",
       "      <td>10.0</td>\n",
       "    </tr>\n",
       "    <tr>\n",
       "      <th>2936</th>\n",
       "      <td>0</td>\n",
       "      <td>2001.0</td>\n",
       "      <td>0.052632</td>\n",
       "      <td>0.989627</td>\n",
       "      <td>0.474747</td>\n",
       "      <td>-0.554276</td>\n",
       "      <td>-2.312958</td>\n",
       "      <td>0.395833</td>\n",
       "      <td>0.777046</td>\n",
       "      <td>25.9</td>\n",
       "      <td>0.521368</td>\n",
       "      <td>0.233333</td>\n",
       "      <td>0.059581</td>\n",
       "      <td>0.222222</td>\n",
       "      <td>0.979776</td>\n",
       "      <td>-0.793556</td>\n",
       "      <td>0.357704</td>\n",
       "      <td>-0.744249</td>\n",
       "      <td>0.143056</td>\n",
       "      <td>9.8</td>\n",
       "    </tr>\n",
       "    <tr>\n",
       "      <th>2937</th>\n",
       "      <td>0</td>\n",
       "      <td>2000.0</td>\n",
       "      <td>0.056725</td>\n",
       "      <td>0.983740</td>\n",
       "      <td>0.469697</td>\n",
       "      <td>-0.569376</td>\n",
       "      <td>0.536294</td>\n",
       "      <td>0.416667</td>\n",
       "      <td>0.822316</td>\n",
       "      <td>25.5</td>\n",
       "      <td>0.521368</td>\n",
       "      <td>0.255556</td>\n",
       "      <td>0.313477</td>\n",
       "      <td>0.255556</td>\n",
       "      <td>0.983107</td>\n",
       "      <td>-0.794540</td>\n",
       "      <td>0.353934</td>\n",
       "      <td>1.311940</td>\n",
       "      <td>0.152778</td>\n",
       "      <td>9.8</td>\n",
       "    </tr>\n",
       "  </tbody>\n",
       "</table>\n",
       "<p>2938 rows × 20 columns</p>\n",
       "</div>"
      ],
      "text/plain": [
       "      STATUS    YEAR  LIFE_EXPECTANCY  ADULT_MORTALITY  INFANT_DEATHS  \\\n",
       "0          0  2015.0         0.294686         0.802268       0.606280   \n",
       "1          0  2014.0         0.187396         0.813152       0.611111   \n",
       "2          0  2013.0         0.187396         0.809070       0.615942   \n",
       "3          0  2012.0         0.180763         0.814512       0.623188   \n",
       "4          0  2011.0         0.175788         0.818594       0.628019   \n",
       "...      ...     ...              ...              ...            ...   \n",
       "2933       0  2004.0         0.046784         1.000000       0.484848   \n",
       "2934       0  2003.0         0.047953         0.997757       0.479798   \n",
       "2935       0  2002.0         0.049708         0.248889       0.474747   \n",
       "2936       0  2001.0         0.052632         0.989627       0.474747   \n",
       "2937       0  2000.0         0.056725         0.983740       0.469697   \n",
       "\n",
       "       ALCOHOL  PERCENTAGE_EXPENDITURE  HEPATITIS_B   MEASLES   BMI  \\\n",
       "0    -1.540089               -0.653537     0.317298  0.806913  19.1   \n",
       "1    -1.540089               -0.641558     0.293245  0.766886  18.6   \n",
       "2    -1.540089               -0.643161     0.309280  0.749863  18.1   \n",
       "3    -1.540089               -0.617785     0.333333  0.883365  17.6   \n",
       "4    -1.540089               -1.506529     0.340278  0.888946  17.2   \n",
       "...        ...                     ...          ...       ...   ...   \n",
       "2933  0.149101                1.081648     0.340278  0.547009  27.1   \n",
       "2934  0.088457                1.061102     0.018072  0.799610  26.7   \n",
       "2935  0.162786               -2.312958     0.375000  0.715266  26.3   \n",
       "2936 -0.554276               -2.312958     0.395833  0.777046  25.9   \n",
       "2937 -0.569376                0.536294     0.416667  0.822316  25.5   \n",
       "\n",
       "      UNDER_FIVE_DEATHS     POLIO  TOTAL_EXPENDITURE  DIPHTHERIA  HIV/AIDS  \\\n",
       "0              0.616162  0.006410           0.562634    0.171717  0.000000   \n",
       "1              0.621212  0.127778           0.567017    0.156566  0.000000   \n",
       "2              0.626263  0.150000           0.556038    0.166667  0.000000   \n",
       "3              0.632997  0.177778           0.639925    0.181818  0.000000   \n",
       "4              0.639731  0.183333           0.497836    0.186869  0.000000   \n",
       "...                 ...       ...                ...         ...       ...   \n",
       "2933           0.534188  0.177778           0.321024    0.171717  0.959553   \n",
       "2934           0.529915  0.008547           0.161034    0.186869  0.966928   \n",
       "2935           0.525641  0.211111           0.163773    0.202020  0.974304   \n",
       "2936           0.521368  0.233333           0.059581    0.222222  0.979776   \n",
       "2937           0.521368  0.255556           0.313477    0.255556  0.983107   \n",
       "\n",
       "           GDP  POPULATION  THINNESS_5_to_19_YEARS  \\\n",
       "0    -0.765913    0.695802                1.863475   \n",
       "1    -0.745047   -0.642920                1.881842   \n",
       "2    -0.731598    0.674292                1.896363   \n",
       "3    -0.705787   -0.011252                1.914304   \n",
       "4    -1.725140   -0.073218                1.932018   \n",
       "...        ...         ...                     ...   \n",
       "2933 -0.876123    0.368261                1.109933   \n",
       "2934 -0.877103    0.364611                1.166410   \n",
       "2935 -1.768514   -0.857872               -0.981848   \n",
       "2936 -0.793556    0.357704               -0.744249   \n",
       "2937 -0.794540    0.353934                1.311940   \n",
       "\n",
       "      INCOME_COMPOSITION_OF_RESOURCES  SCHOOLING  \n",
       "0                            0.215278       10.1  \n",
       "1                            0.211111       10.0  \n",
       "2                            0.202778        9.9  \n",
       "3                            0.193056        9.8  \n",
       "4                            0.180556        9.5  \n",
       "...                               ...        ...  \n",
       "2933                         0.115278        9.2  \n",
       "2934                         0.130556        9.5  \n",
       "2935                         0.143056       10.0  \n",
       "2936                         0.143056        9.8  \n",
       "2937                         0.152778        9.8  \n",
       "\n",
       "[2938 rows x 20 columns]"
      ]
     },
     "execution_count": 168,
     "metadata": {},
     "output_type": "execute_result"
    }
   ],
   "source": [
    "\n",
    "LogsRegDF['STATUS'] = 1 - LogsRegDF['STATUS']\n",
    "#LogsRegDF = pd.concat([LogsRegDF, LogsRegDF_dummies], axis=1)\n",
    "#LogsRegDF.drop(['STATUS'], axis=1, inplace=True)\n",
    "LogsRegDF"
   ]
  },
  {
   "cell_type": "code",
   "execution_count": 180,
   "metadata": {},
   "outputs": [
    {
     "name": "stdout",
     "output_type": "stream",
     "text": [
      "Train Set : (2350, 19) (2350, 1)\n",
      "Test Set  : (588, 19) (588, 1)\n"
     ]
    }
   ],
   "source": [
    "# Extract Response and Predictors\n",
    "y = pd.DataFrame(LogsRegDF['STATUS'])\n",
    "X = pd.DataFrame(LogsRegDF.loc[:,~LogsRegDF.columns.isin(['STATUS','COUNTRY'])])\n",
    "\n",
    "# Split the Dataset into random Train and Test\n",
    "X_train, X_test, y_train, y_test = train_test_split(X, y, test_size = 0.2,random_state=0) # set the seed so its reproduceable\n",
    "# Check the sample sizes\n",
    "print(\"Train Set :\", X_train.shape, y_train.shape)\n",
    "print(\"Test Set  :\", X_test.shape, y_test.shape)"
   ]
  },
  {
   "cell_type": "code",
   "execution_count": 181,
   "metadata": {},
   "outputs": [
    {
     "name": "stdout",
     "output_type": "stream",
     "text": [
      "Shape of x  (2938, 19)\n"
     ]
    },
    {
     "data": {
      "text/plain": [
       "2350"
      ]
     },
     "execution_count": 181,
     "metadata": {},
     "output_type": "execute_result"
    }
   ],
   "source": [
    "print(\"Shape of x \", X.shape)\n",
    "y_train.size"
   ]
  },
  {
   "cell_type": "code",
   "execution_count": 182,
   "metadata": {
    "scrolled": true
   },
   "outputs": [
    {
     "name": "stderr",
     "output_type": "stream",
     "text": [
      "C:\\Users\\lotzi\\anaconda3\\lib\\site-packages\\sklearn\\utils\\validation.py:993: DataConversionWarning: A column-vector y was passed when a 1d array was expected. Please change the shape of y to (n_samples, ), for example using ravel().\n",
      "  y = column_or_1d(y, warn=True)\n"
     ]
    },
    {
     "data": {
      "text/plain": [
       "LogisticRegression(max_iter=2350)"
      ]
     },
     "execution_count": 182,
     "metadata": {},
     "output_type": "execute_result"
    }
   ],
   "source": [
    "mymodel = LogisticRegression(max_iter = 2350)\n",
    "mymodel.fit(X_train, y_train)\n",
    "#print('Intercept \\t: b = ', LogReg.intercept_)\n",
    "#print('Coefficients \\t: a = ', LogReg.coef_)"
   ]
  },
  {
   "cell_type": "code",
   "execution_count": 183,
   "metadata": {
    "scrolled": true
   },
   "outputs": [
    {
     "data": {
      "text/plain": [
       "0.9251063829787234"
      ]
     },
     "execution_count": 183,
     "metadata": {},
     "output_type": "execute_result"
    }
   ],
   "source": [
    "mymodel.score(X_train, y_train)"
   ]
  },
  {
   "cell_type": "code",
   "execution_count": 196,
   "metadata": {},
   "outputs": [],
   "source": [
    "ytrain_pred = mymodel.predict(X_train)"
   ]
  },
  {
   "cell_type": "code",
   "execution_count": 198,
   "metadata": {
    "scrolled": true
   },
   "outputs": [
    {
     "data": {
      "text/plain": [
       "0.9251063829787234"
      ]
     },
     "execution_count": 198,
     "metadata": {},
     "output_type": "execute_result"
    }
   ],
   "source": [
    "mymodel.score(X_train, y_train)"
   ]
  },
  {
   "cell_type": "code",
   "execution_count": 201,
   "metadata": {
    "scrolled": false
   },
   "outputs": [
    {
     "data": {
      "text/plain": [
       "<AxesSubplot:>"
      ]
     },
     "execution_count": 201,
     "metadata": {},
     "output_type": "execute_result"
    },
    {
     "data": {
      "image/png": "[encoded data removed]",
      "text/plain": [
       "<Figure size 640x480 with 2 Axes>"
      ]
     },
     "metadata": {},
     "output_type": "display_data"
    }
   ],
   "source": [
    "sb.heatmap(confusion_matrix(y_train, ytrain_pred), annot = True, fmt = \".0f\")"
   ]
  },
  {
   "cell_type": "code",
   "execution_count": 207,
   "metadata": {},
   "outputs": [
    {
     "name": "stdout",
     "output_type": "stream",
     "text": [
      "Train Data for Logistics Regression\n",
      "Accuracy  :\t 0.9251063829787234\n",
      "\n",
      "TPR Train :\t 0.7721518987341772\n",
      "TNR Train :\t 0.9560102301790281\n",
      "\n",
      "FPR Train :\t 0.043989769820971865\n",
      "FNR Train :\t 0.22784810126582278\n"
     ]
    }
   ],
   "source": [
    "print(\"Train Data for Logistics Regression\")\n",
    "print(\"Accuracy  :\\t\", mymodel.score(x_train, y_train))\n",
    "print()\n",
    "\n",
    "# Print the Accuracy Measures from the Confusion Matrix\n",
    "cmTrain = confusion_matrix(y_train, ytrain_pred)\n",
    "tpTrain = cmTrain[1][1] # True Positives : Y (1) predicted Y (1)\n",
    "fpTrain = cmTrain[0][1] # False Positives : N (0) predicted Y (1)\n",
    "tnTrain = cmTrain[0][0] # True Negatives : N (0) predicted N (0)\n",
    "fnTrain = cmTrain[1][0] # False Negatives : Y (1) predicted N (0)\n",
    "\n",
    "print(\"TPR Train :\\t\", (tpTrain/(tpTrain + fnTrain)))\n",
    "print(\"TNR Train :\\t\", (tnTrain/(tnTrain + fpTrain)))\n",
    "print()\n",
    "\n",
    "print(\"FPR Train :\\t\", (fpTrain/(tnTrain + fpTrain)))\n",
    "print(\"FNR Train :\\t\", (fnTrain/(tpTrain + fnTrain)))"
   ]
  },
  {
   "cell_type": "code",
   "execution_count": 208,
   "metadata": {
    "scrolled": false
   },
   "outputs": [
    {
     "data": {
      "text/plain": [
       "array([0, 0, 0, 0, 0, 0, 0, 1, 0, 0, 0, 1, 0, 0, 0, 0, 0, 0, 0, 1, 0, 0,\n",
       "       0, 1, 0, 0, 1, 0, 0, 0, 0, 0, 0, 0, 0, 0, 0, 1, 0, 0, 0, 0, 1, 0,\n",
       "       0, 1, 0, 0, 0, 0, 0, 0, 1, 0, 0, 0, 1, 0, 0, 0, 0, 0, 0, 0, 0, 0,\n",
       "       0, 0, 0, 0, 0, 1, 1, 0, 0, 0, 0, 0, 0, 0, 1, 0, 0, 0, 0, 0, 0, 0,\n",
       "       0, 1, 0, 0, 0, 0, 0, 1, 0, 0, 0, 0, 0, 0, 1, 0, 0, 1, 0, 0, 1, 0,\n",
       "       0, 0, 1, 1, 0, 1, 0, 1, 0, 0, 0, 0, 0, 0, 0, 0, 0, 1, 0, 0, 0, 0,\n",
       "       0, 0, 0, 0, 1, 0, 1, 0, 1, 0, 0, 0, 1, 0, 0, 0, 0, 1, 0, 0, 0, 0,\n",
       "       0, 0, 0, 0, 0, 1, 1, 0, 0, 0, 0, 0, 0, 0, 0, 0, 0, 1, 1, 1, 1, 1,\n",
       "       0, 0, 0, 0, 0, 0, 0, 0, 0, 1, 1, 0, 0, 0, 0, 0, 0, 0, 0, 1, 0, 0,\n",
       "       0, 1, 0, 0, 0, 0, 0, 0, 0, 0, 0, 1, 0, 1, 0, 0, 0, 0, 1, 0, 0, 0,\n",
       "       0, 0, 0, 0, 1, 0, 0, 0, 0, 1, 1, 0, 0, 0, 0, 0, 1, 0, 0, 0, 0, 0,\n",
       "       0, 0, 0, 0, 0, 0, 0, 0, 0, 0, 0, 1, 0, 0, 1, 0, 1, 1, 0, 0, 0, 1,\n",
       "       0, 0, 0, 0, 0, 0, 0, 0, 0, 0, 0, 0, 1, 1, 0, 0, 0, 0, 0, 1, 0, 0,\n",
       "       1, 0, 0, 0, 0, 1, 0, 0, 0, 0, 0, 0, 0, 0, 0, 0, 0, 0, 0, 0, 0, 0,\n",
       "       0, 0, 0, 0, 0, 0, 0, 0, 0, 0, 0, 0, 0, 0, 0, 0, 0, 0, 0, 0, 0, 0,\n",
       "       1, 0, 0, 0, 0, 0, 0, 0, 0, 0, 1, 0, 0, 0, 0, 1, 0, 0, 0, 1, 0, 0,\n",
       "       0, 0, 1, 0, 1, 0, 0, 0, 1, 0, 0, 0, 0, 0, 0, 0, 0, 0, 1, 0, 0, 1,\n",
       "       0, 0, 0, 1, 0, 0, 0, 0, 0, 0, 0, 0, 0, 0, 0, 0, 0, 0, 1, 1, 0, 0,\n",
       "       0, 1, 1, 0, 1, 0, 0, 0, 0, 1, 0, 0, 0, 0, 0, 0, 1, 0, 0, 0, 0, 0,\n",
       "       0, 0, 0, 0, 1, 0, 0, 0, 0, 0, 0, 0, 0, 0, 0, 0, 1, 0, 0, 1, 1, 0,\n",
       "       1, 0, 0, 1, 1, 0, 1, 0, 0, 0, 1, 0, 0, 0, 0, 0, 0, 0, 0, 1, 1, 0,\n",
       "       0, 1, 0, 0, 1, 1, 0, 0, 0, 0, 0, 0, 0, 0, 0, 1, 0, 0, 0, 1, 0, 1,\n",
       "       0, 0, 0, 0, 0, 0, 0, 1, 0, 0, 0, 0, 0, 0, 0, 0, 0, 0, 0, 0, 0, 0,\n",
       "       0, 0, 1, 0, 0, 0, 0, 1, 1, 0, 0, 1, 1, 0, 1, 1, 0, 0, 0, 0, 0, 1,\n",
       "       0, 1, 0, 1, 0, 1, 0, 0, 0, 0, 0, 0, 0, 1, 0, 0, 0, 0, 0, 1, 0, 0,\n",
       "       1, 1, 0, 0, 0, 1, 0, 0, 0, 0, 0, 0, 1, 0, 0, 1, 0, 0, 0, 0, 0, 1,\n",
       "       1, 0, 0, 0, 0, 0, 0, 0, 0, 0, 0, 1, 0, 0, 0, 0], dtype=int64)"
      ]
     },
     "execution_count": 208,
     "metadata": {},
     "output_type": "execute_result"
    }
   ],
   "source": [
    "ytest_pred = mymodel.predict(X_test)\n",
    "ytest_pred"
   ]
  },
  {
   "cell_type": "code",
   "execution_count": 209,
   "metadata": {},
   "outputs": [
    {
     "data": {
      "text/plain": [
       "0.923469387755102"
      ]
     },
     "execution_count": 209,
     "metadata": {},
     "output_type": "execute_result"
    }
   ],
   "source": [
    "mymodel.score(X_test, y_test)"
   ]
  },
  {
   "cell_type": "code",
   "execution_count": 210,
   "metadata": {
    "scrolled": true
   },
   "outputs": [
    {
     "data": {
      "text/plain": [
       "<AxesSubplot:>"
      ]
     },
     "execution_count": 210,
     "metadata": {},
     "output_type": "execute_result"
    },
    {
     "data": {
      "image/png": "[encoded data removed]",
      "text/plain": [
       "<Figure size 640x480 with 2 Axes>"
      ]
     },
     "metadata": {},
     "output_type": "display_data"
    }
   ],
   "source": [
    "sb.heatmap(confusion_matrix(y_test, ytest_pred), annot = True, fmt = \".1f\")"
   ]
  },
  {
   "cell_type": "code",
   "execution_count": 213,
   "metadata": {},
   "outputs": [
    {
     "data": {
      "text/plain": [
       "0.0748936170212766"
      ]
     },
     "execution_count": 213,
     "metadata": {},
     "output_type": "execute_result"
    }
   ],
   "source": [
    "mean_squared_error(y_train, ytrain_pred)"
   ]
  },
  {
   "cell_type": "code",
   "execution_count": 214,
   "metadata": {},
   "outputs": [
    {
     "name": "stdout",
     "output_type": "stream",
     "text": [
      "Test Data for Logistics Regression\n",
      "Accuracy  :\t 0.923469387755102\n",
      "\n",
      "TPR Test :\t 0.7863247863247863\n",
      "TNR Test :\t 0.9575371549893843\n",
      "\n",
      "FPR Test :\t 0.04246284501061571\n",
      "FNR Test :\t 0.21367521367521367\n"
     ]
    }
   ],
   "source": [
    "print(\"Test Data for Logistics Regression\")\n",
    "print(\"Accuracy  :\\t\", mymodel.score(X_test, y_test))\n",
    "print()\n",
    "\n",
    "# Print the Accuracy Measures from the Confusion Matrix\n",
    "cmTest = confusion_matrix(y_test, ytest_pred)\n",
    "tpTest = cmTest[1][1] # True Positives : Y (1) predicted Y (1)\n",
    "fpTest = cmTest[0][1] # False Positives : N (0) predicted Y (1)\n",
    "tnTest = cmTest[0][0] # True Negatives : N (0) predicted N (0)\n",
    "fnTest = cmTest[1][0] # False Negatives : Y (1) predicted N (0)\n",
    "\n",
    "print(\"TPR Test :\\t\", (tpTest/(tpTest + fnTest)))\n",
    "print(\"TNR Test :\\t\", (tnTest/(tnTest + fpTest)))\n",
    "print()\n",
    "\n",
    "print(\"FPR Test :\\t\", (fpTest/(fpTest + tnTest)))\n",
    "print(\"FNR Test :\\t\", (fnTest/(fnTest + tpTest)))"
   ]
  },
  {
   "cell_type": "code",
   "execution_count": 212,
   "metadata": {},
   "outputs": [
    {
     "data": {
      "text/plain": [
       "0.07653061224489796"
      ]
     },
     "execution_count": 212,
     "metadata": {},
     "output_type": "execute_result"
    }
   ],
   "source": [
    "mean_squared_error(y_test, ytest_pred)"
   ]
  },
  {
   "cell_type": "code",
   "execution_count": null,
   "metadata": {},
   "outputs": [],
   "source": []
  },
  {
   "cell_type": "code",
   "execution_count": null,
   "metadata": {},
   "outputs": [],
   "source": []
  }
 ],
 "metadata": {
  "kernelspec": {
   "display_name": "Python 3 (ipykernel)",
   "language": "python",
   "name": "python3"
  },
  "language_info": {
   "codemirror_mode": {
    "name": "ipython",
    "version": 3
   },
   "file_extension": ".py",
   "mimetype": "text/x-python",
   "name": "python",
   "nbconvert_exporter": "python",
   "pygments_lexer": "ipython3",
   "version": "3.9.13"
  }
 },
 "nbformat": 4,
 "nbformat_minor": 2
}
